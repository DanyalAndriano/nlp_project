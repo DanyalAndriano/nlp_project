{
 "cells": [
  {
   "cell_type": "markdown",
   "metadata": {},
   "source": [
    "## Prequisites and Preprocessing\n",
    "\n",
    "### Set Permissions and Environment Variables"
   ]
  },
  {
   "cell_type": "code",
   "execution_count": 1,
   "metadata": {},
   "outputs": [],
   "source": [
    "import os\n",
    "import boto3\n",
    "import re\n",
    "import copy\n",
    "import time\n",
    "from time import gmtime, strftime\n",
    "from sagemaker import get_execution_role\n",
    "\n",
    "# The IAM role arn used to give training and hosting access to your data\n",
    "role = get_execution_role()\n",
    "\n",
    "region = boto3.Session().region_name\n",
    "\n",
    "bucket='test00001a' \n",
    "data_key = 'comprehend_baseline/lang_to_be_processed.csv'\n",
    "data_location = 's3://{}/{}'.format(bucket, data_key)\n",
    "#bucket_path = 'https://s3-{}.amazonaws.com/{}'.format(region,bucket) # The URL to access the bucket"
   ]
  },
  {
   "cell_type": "markdown",
   "metadata": {},
   "source": [
    "### Import Libraries"
   ]
  },
  {
   "cell_type": "code",
   "execution_count": 2,
   "metadata": {},
   "outputs": [],
   "source": [
    "%matplotlib inline\n",
    "import matplotlib.pyplot as plt\n",
    "import numpy as np\n",
    "import pandas as pd"
   ]
  },
  {
   "cell_type": "markdown",
   "metadata": {},
   "source": [
    "### Connect to Comprehend "
   ]
  },
  {
   "cell_type": "code",
   "execution_count": 3,
   "metadata": {},
   "outputs": [],
   "source": [
    "comprehend = boto3.client('comprehend', region_name='us-east-1')"
   ]
  },
  {
   "cell_type": "markdown",
   "metadata": {},
   "source": [
    "### Load Data"
   ]
  },
  {
   "cell_type": "code",
   "execution_count": 4,
   "metadata": {},
   "outputs": [
    {
     "name": "stdout",
     "output_type": "stream",
     "text": [
      "<class 'pandas.core.frame.DataFrame'>\n",
      "Int64Index: 397365 entries, 474948 to 99999\n",
      "Data columns (total 17 columns):\n",
      "review_id         397365 non-null int64\n",
      "review_heading    16141 non-null object\n",
      "review_comment    397285 non-null object\n",
      "brand_id          397365 non-null int64\n",
      "store_id          397365 non-null int64\n",
      "platform_id       397365 non-null int64\n",
      "platform_name     397365 non-null object\n",
      "brand_name        397365 non-null object\n",
      "rating            397365 non-null int64\n",
      "combined          397365 non-null object\n",
      "aws_lang          0 non-null float64\n",
      "aws_lang_score    0 non-null float64\n",
      "aws_mix           0 non-null float64\n",
      "aws_neg           0 non-null float64\n",
      "aws_neu           0 non-null float64\n",
      "aws_pos           0 non-null float64\n",
      "aws_sent          0 non-null float64\n",
      "dtypes: float64(7), int64(5), object(5)\n",
      "memory usage: 54.6+ MB\n"
     ]
    }
   ],
   "source": [
    "data = pd.read_csv(data_location, index_col=0)\n",
    "data.info()"
   ]
  },
  {
   "cell_type": "markdown",
   "metadata": {},
   "source": [
    "## Language Detection"
   ]
  },
  {
   "cell_type": "code",
   "execution_count": null,
   "metadata": {},
   "outputs": [],
   "source": [
    "%%time\n",
    "\n",
    "languages = []\n",
    "scores = []\n",
    "\n",
    "\n",
    "for i in data3.index:\n",
    "    d = data3.combined[i]\n",
    "    \n",
    "    if d != '':\n",
    "        res = comprehend.detect_dominant_language(Text=d)\n",
    "        lang = res.get('Languages')[0]['LanguageCode']\n",
    "        score = res.get('Languages')[0]['Score']\n",
    "\n",
    "    \n",
    "    languages.append(lang)\n",
    "    scores.append(score)"
   ]
  },
  {
   "cell_type": "code",
   "execution_count": 31,
   "metadata": {},
   "outputs": [],
   "source": [
    "data['aws_lang'] = languages\n",
    "data['aws_lang_score'] = scores"
   ]
  },
  {
   "cell_type": "code",
   "execution_count": 32,
   "metadata": {},
   "outputs": [
    {
     "data": {
      "text/plain": [
       "True"
      ]
     },
     "execution_count": 32,
     "metadata": {},
     "output_type": "execute_result"
    }
   ],
   "source": [
    "data.aws_lang.notnull().sum() == len(data)"
   ]
  },
  {
   "cell_type": "code",
   "execution_count": 40,
   "metadata": {},
   "outputs": [
    {
     "name": "stdout",
     "output_type": "stream",
     "text": [
      "The data is successfully written to S3 path: test00001a/comprehend_baseline/lang_to_be_processed2.csv\n"
     ]
    }
   ],
   "source": [
    "# Function to upload to S3\n",
    "from io import StringIO\n",
    "\n",
    "def write_pd_s3_csv(df, bucket, filepath):\n",
    "    csv_buffer = StringIO()\n",
    "    df.to_csv(csv_buffer)\n",
    "    s3_resource = boto3.resource('s3')\n",
    "    s3_resource.Object(bucket, filepath).put(Body=csv_buffer.getvalue())\n",
    "    print(\"The data is successfully written to S3 path:\", bucket+\"/\"+filepath)\n",
    "\n",
    "# Write to S3\n",
    "s3_bucket =  'test00001a'  \n",
    "file_path = 'comprehend_baseline/new_lang3.csv'\n",
    "write_pd_s3_csv(data3, s3_bucket, file_path)"
   ]
  },
  {
   "cell_type": "markdown",
   "metadata": {},
   "source": [
    "## Sentiment Analysis"
   ]
  },
  {
   "cell_type": "code",
   "execution_count": 17,
   "metadata": {},
   "outputs": [
    {
     "name": "stdout",
     "output_type": "stream",
     "text": [
      "CPU times: user 25.9 s, sys: 700 ms, total: 26.6 s\n",
      "Wall time: 7min\n"
     ]
    }
   ],
   "source": [
    "%%time \n",
    "\n",
    "sentiments = []\n",
    "positive = []\n",
    "negative = []\n",
    "neutral = []\n",
    "mixed = []\n",
    "\n",
    "supported_languages = ['en','de', 'fr', 'es', 'it', 'pt']\n",
    "\n",
    "for i in data.index:\n",
    "    if data.aws_lang[i] in supported_languages: \n",
    "        d = data.combined[i]\n",
    "        lang = data.aws_lang[i]\n",
    "    \n",
    "    \n",
    "        if d != '':\n",
    "            res = comprehend.detect_sentiment(Text=d, LanguageCode=lang)\n",
    "            sent = res.get('Sentiment')\n",
    "            pos = res.get('SentimentScore')['Positive']\n",
    "            neg = res.get('SentimentScore')['Negative']\n",
    "            neu = res.get('SentimentScore')['Neutral']\n",
    "            mix = res.get('SentimentScore')['Mixed']\n",
    "        \n",
    "    else:\n",
    "        sent = pos = neg = neu = mix = np.nan\n",
    "    \n",
    "    \n",
    "    sentiments.append(sent)\n",
    "    positive.append(pos)\n",
    "    negative.append(neg)\n",
    "    neutral.append(neu)\n",
    "    mixed.append(mix)"
   ]
  },
  {
   "cell_type": "code",
   "execution_count": 18,
   "metadata": {
    "scrolled": true
   },
   "outputs": [
    {
     "data": {
      "text/plain": [
       "True"
      ]
     },
     "execution_count": 18,
     "metadata": {},
     "output_type": "execute_result"
    }
   ],
   "source": [
    "len(sentiments) == len(data)"
   ]
  },
  {
   "cell_type": "code",
   "execution_count": 19,
   "metadata": {},
   "outputs": [],
   "source": [
    "data['aws_sent'] = sentiments\n",
    "data['aws_pos'] = positive\n",
    "data['aws_neg'] = negative\n",
    "data['aws_neu'] = neutral\n",
    "data['aws_mix'] = mixed"
   ]
  },
  {
   "cell_type": "markdown",
   "metadata": {},
   "source": [
    "### Save Data to S3"
   ]
  },
  {
   "cell_type": "code",
   "execution_count": 29,
   "metadata": {},
   "outputs": [
    {
     "name": "stdout",
     "output_type": "stream",
     "text": [
      "The data is successfully written to S3 path: test00001a/comprehend_baseline/lang_to_be_processed.csv\n"
     ]
    }
   ],
   "source": [
    "# Write to S3\n",
    " \n",
    "file_path = 'comprehend_baseline/lang_to_be_processed.csv'\n",
    "write_pd_s3_csv(data3, s3_bucket, file_path)"
   ]
  }
 ],
 "metadata": {
  "kernelspec": {
   "display_name": "conda_python3",
   "language": "python",
   "name": "conda_python3"
  },
  "language_info": {
   "codemirror_mode": {
    "name": "ipython",
    "version": 3
   },
   "file_extension": ".py",
   "mimetype": "text/x-python",
   "name": "python",
   "nbconvert_exporter": "python",
   "pygments_lexer": "ipython3",
   "version": "3.6.5"
  }
 },
 "nbformat": 4,
 "nbformat_minor": 2
}
