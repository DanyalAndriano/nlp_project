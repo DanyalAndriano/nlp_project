{
 "cells": [
  {
   "cell_type": "markdown",
   "metadata": {},
   "source": [
    "<a id=\"index\"></a>\n",
    "# COST-BENEFIT ANALYSIS\n",
    "\n",
    "Once a model is developed and ready for use in production there are important decisions to be made regarding exactly how the predictions should be used. Some of the main decisions center around the business value and risk of the model's performance. Broadly speaking, value lies in correct predictions and risk lies in incorrect predictions.\n",
    "\n",
    "---------------------------------------------\n",
    "**[1. Load Data & Libraries](#load_data)**\n",
    "<br>\n",
    "**[2. The Cost of a Prediction](#cost)**\n",
    "<br> &nbsp;&nbsp;&nbsp; - [Cost-Profit Confusion Matrix](#cost_cm)\n",
    "<br>\n",
    "**[3. Confidence Thresholds and Costs](#thresh)**\n",
    "<br> &nbsp;&nbsp;&nbsp; - [Cost-Profit Confusion Matrix @.8 Cutoff](#cm_cut)\n",
    "<br> &nbsp;&nbsp;&nbsp; - [Confusion Matrix @.8 Cutoff](#cm)\n",
    "\n",
    "--------------------------------------------------\n",
    "# Load Libraries and Data"
   ]
  },
  {
   "cell_type": "code",
   "execution_count": 18,
   "metadata": {},
   "outputs": [
    {
     "name": "stdout",
     "output_type": "stream",
     "text": [
      "The autoreload extension is already loaded. To reload it, use:\n",
      "  %reload_ext autoreload\n"
     ]
    }
   ],
   "source": [
    "%load_ext autoreload\n",
    "%autoreload 2"
   ]
  },
  {
   "cell_type": "code",
   "execution_count": 22,
   "metadata": {},
   "outputs": [
    {
     "data": {
      "text/html": [
       "        <script type=\"text/javascript\">\n",
       "        window.PlotlyConfig = {MathJaxConfig: 'local'};\n",
       "        if (window.MathJax) {MathJax.Hub.Config({SVG: {font: \"STIX-Web\"}});}\n",
       "        if (typeof require !== 'undefined') {\n",
       "        require.undef(\"plotly\");\n",
       "        requirejs.config({\n",
       "            paths: {\n",
       "                'plotly': ['https://cdn.plot.ly/plotly-latest.min']\n",
       "            }\n",
       "        });\n",
       "        require(['plotly'], function(Plotly) {\n",
       "            window._Plotly = Plotly;\n",
       "        });\n",
       "        }\n",
       "        </script>\n",
       "        "
      ]
     },
     "metadata": {},
     "output_type": "display_data"
    }
   ],
   "source": [
    "# Load libraries and configure notebook settings\n",
    "%matplotlib inline\n",
    "import json\n",
    "from requests.auth import HTTPBasicAuth\n",
    "\n",
    "import pandas as pd\n",
    "import numpy as np\n",
    "from sklearn.metrics import confusion_matrix, f1_score\n",
    "import plotly.graph_objects as go\n",
    "from plotly.subplots import make_subplots\n",
    "from plotly.offline import download_plotlyjs, init_notebook_mode, plot, iplot\n",
    "\n",
    "from eval_functions import corr_matrix, get_datasets, multiclass_roc_curve, \\\n",
    "                           plot_confusion_matrix,get_ratios_multiclass, \\\n",
    "                           plot_cm_best_estimator, plot_ngrams, parse_results\n",
    "\n",
    "pd.set_option('display.max_colwidth', -1)\n",
    "np.random.seed(0)\n",
    "\n",
    "with open('G:\\\\aws_processed\\\\info.json', 'r') as f:\n",
    "    d = json.load(f)\n",
    "    username = d['plotly_username']\n",
    "    api_key = d['plotly_api_key']\n",
    "\n",
    "auth = HTTPBasicAuth(username, api_key)\n",
    "headers = {'Plotly-Client-Platform': 'python'}\n",
    "init_notebook_mode(connected=True)\n",
    "\n",
    "import warnings\n",
    "warnings.filterwarnings('ignore')"
   ]
  },
  {
   "cell_type": "code",
   "execution_count": 23,
   "metadata": {},
   "outputs": [
    {
     "data": {
      "text/html": [
       "<div>\n",
       "<style scoped>\n",
       "    .dataframe tbody tr th:only-of-type {\n",
       "        vertical-align: middle;\n",
       "    }\n",
       "\n",
       "    .dataframe tbody tr th {\n",
       "        vertical-align: top;\n",
       "    }\n",
       "\n",
       "    .dataframe thead th {\n",
       "        text-align: right;\n",
       "    }\n",
       "</style>\n",
       "<table border=\"1\" class=\"dataframe\">\n",
       "  <thead>\n",
       "    <tr style=\"text-align: right;\">\n",
       "      <th></th>\n",
       "      <th>text</th>\n",
       "      <th>label</th>\n",
       "      <th>neg</th>\n",
       "      <th>pos</th>\n",
       "      <th>mixed</th>\n",
       "      <th>preds</th>\n",
       "    </tr>\n",
       "  </thead>\n",
       "  <tbody>\n",
       "    <tr>\n",
       "      <th>0</th>\n",
       "      <td>New menu is fabulous!! Quality of food is awesome. Service can be jacked up a bit. Our waitress was either high or naturally \"slow\".</td>\n",
       "      <td>2</td>\n",
       "      <td>0.008629</td>\n",
       "      <td>0.013405</td>\n",
       "      <td>0.978027</td>\n",
       "      <td>2</td>\n",
       "    </tr>\n",
       "    <tr>\n",
       "      <th>1</th>\n",
       "      <td>Lovely food, great atmosphere</td>\n",
       "      <td>1</td>\n",
       "      <td>0.000119</td>\n",
       "      <td>0.999512</td>\n",
       "      <td>0.000358</td>\n",
       "      <td>1</td>\n",
       "    </tr>\n",
       "    <tr>\n",
       "      <th>2</th>\n",
       "      <td>Great service</td>\n",
       "      <td>1</td>\n",
       "      <td>0.000123</td>\n",
       "      <td>0.999512</td>\n",
       "      <td>0.000273</td>\n",
       "      <td>1</td>\n",
       "    </tr>\n",
       "    <tr>\n",
       "      <th>3</th>\n",
       "      <td>Loved the burgers and crispy fries. Recommend the cheese and bacon fries</td>\n",
       "      <td>1</td>\n",
       "      <td>0.000180</td>\n",
       "      <td>0.999023</td>\n",
       "      <td>0.000847</td>\n",
       "      <td>1</td>\n",
       "    </tr>\n",
       "    <tr>\n",
       "      <th>4</th>\n",
       "      <td>Great place for parents with toddlers. Great play area. Great staff. Screens to watch your kids while you eat. Awesome kids menu and great pizza. Kids Heaven</td>\n",
       "      <td>1</td>\n",
       "      <td>0.000133</td>\n",
       "      <td>0.999512</td>\n",
       "      <td>0.000597</td>\n",
       "      <td>1</td>\n",
       "    </tr>\n",
       "  </tbody>\n",
       "</table>\n",
       "</div>"
      ],
      "text/plain": [
       "                                                                                                                                                            text  \\\n",
       "0  New menu is fabulous!! Quality of food is awesome. Service can be jacked up a bit. Our waitress was either high or naturally \"slow\".                            \n",
       "1  Lovely food, great atmosphere                                                                                                                                   \n",
       "2  Great service                                                                                                                                                   \n",
       "3  Loved the burgers and crispy fries. Recommend the cheese and bacon fries                                                                                        \n",
       "4  Great place for parents with toddlers. Great play area. Great staff. Screens to watch your kids while you eat. Awesome kids menu and great pizza. Kids Heaven   \n",
       "\n",
       "   label       neg       pos     mixed  preds  \n",
       "0  2      0.008629  0.013405  0.978027  2      \n",
       "1  1      0.000119  0.999512  0.000358  1      \n",
       "2  1      0.000123  0.999512  0.000273  1      \n",
       "3  1      0.000180  0.999023  0.000847  1      \n",
       "4  1      0.000133  0.999512  0.000597  1      "
      ]
     },
     "execution_count": 23,
     "metadata": {},
     "output_type": "execute_result"
    }
   ],
   "source": [
    "# Probabilities from the uncorrected dataset were used\n",
    "predictions = pd.read_json('test_probs_bert.json', orient='column')\n",
    "\n",
    "predictions.head()"
   ]
  },
  {
   "cell_type": "code",
   "execution_count": 24,
   "metadata": {},
   "outputs": [
    {
     "name": "stdout",
     "output_type": "stream",
     "text": [
      "Normalized confusion matrix\n"
     ]
    },
    {
     "data": {
      "image/png": "[encoded data removed]",
      "text/plain": [
       "<Figure size 360x360 with 2 Axes>"
      ]
     },
     "metadata": {
      "needs_background": "light"
     },
     "output_type": "display_data"
    }
   ],
   "source": [
    "cm = confusion_matrix(predictions.label, predictions.preds)\n",
    "plot_confusion_matrix(cm, ['negative', 'positive', 'mixed'], normalize=True)"
   ]
  },
  {
   "cell_type": "markdown",
   "metadata": {},
   "source": [
    "<a id=\"cost\"></a>\n",
    "# The Cost of a Prediction\n",
    "\n",
    "[Return to Index](#index)\n",
    "\n",
    "While the costs and benefits here are hypothetical in terms of exact monetary amount, the hit:miss ratio is realistic. Correctly classifying a review will earn \\\\$1 for the majority class and \\\\$2 for the minority classes.\n",
    "\n",
    "Incorrectly classifying a review depends on the misclassification:\n",
    "```\n",
    "    - A negative review classified as positive will cost $40\n",
    "    - A negative review classified as mixed will cost $10\n",
    "    \n",
    "    - A positive review classified as negative will cost $40\n",
    "    - A positive review classifed as mixed will cost $10\n",
    "    \n",
    "    - A mixed review classified as negative will cost $6\n",
    "    - A mixed review classified as positive will cost $10\n",
    "```"
   ]
  },
  {
   "cell_type": "code",
   "execution_count": 25,
   "metadata": {},
   "outputs": [
    {
     "data": {
      "text/plain": [
       "array([[  2, -40, -10],\n",
       "       [-40,   1, -10],\n",
       "       [ -6, -10,   2]])"
      ]
     },
     "execution_count": 25,
     "metadata": {},
     "output_type": "execute_result"
    }
   ],
   "source": [
    "cost_matrix = np.array([[2, -40, -10], [-40, 1, -10], [-6, -10, 2]])\n",
    "cost_matrix"
   ]
  },
  {
   "cell_type": "markdown",
   "metadata": {},
   "source": [
    "<a id=\"cost_cm\"></a>\n",
    "## Cost-Profit Confusion Matrix\n",
    "\n",
    "If we apply this to our confusion matrix, we get:"
   ]
  },
  {
   "cell_type": "code",
   "execution_count": 26,
   "metadata": {},
   "outputs": [
    {
     "name": "stdout",
     "output_type": "stream",
     "text": [
      "Confusion matrix, without normalization\n",
      "Profit: 1565\n"
     ]
    },
    {
     "data": {
      "image/png": "[encoded data removed]",
      "text/plain": [
       "<Figure size 360x360 with 2 Axes>"
      ]
     },
     "metadata": {
      "needs_background": "light"
     },
     "output_type": "display_data"
    }
   ],
   "source": [
    "cm = confusion_matrix(predictions.label, predictions.preds)\n",
    "cm_cost = np.round(cm*cost_matrix, 2)\n",
    "plot_confusion_matrix(cm_cost, ['neg', 'pos', 'mixed'], normalize=False)\n",
    "print('Profit: {}'.format(cm_cost.sum()))"
   ]
  },
  {
   "cell_type": "markdown",
   "metadata": {},
   "source": [
    "<a id=\"thresh\"></a>\n",
    "# Confidence Thresholds and Costs\n",
    "\n",
    "Using different confidence thresholds we can adjust the proportion of correct:incorrect predictions and see how they impact costs and profits.\n",
    "\n",
    "[Return to Index](#index)"
   ]
  },
  {
   "cell_type": "code",
   "execution_count": 27,
   "metadata": {
    "scrolled": false
   },
   "outputs": [
    {
     "data": {
      "application/vnd.plotly.v1+json": {
       "config": {
        "plotlyServerURL": "https://plot.ly"
       },
       "data": [
        {
         "name": "",
         "text": "Profit at Cutoff",
         "type": "scatter",
         "x": [
          0.5,
          0.55,
          0.6000000000000001,
          0.6500000000000001,
          0.7000000000000002,
          0.7500000000000002,
          0.8000000000000003,
          0.8500000000000003,
          0.9000000000000004,
          0.9500000000000004
         ],
         "xaxis": "x",
         "y": [
          1719,
          1927,
          2149,
          2245,
          2396,
          2529,
          2730,
          2831,
          3101,
          3400
         ],
         "yaxis": "y"
        },
        {
         "name": "",
         "text": "F1 score at Cutoff",
         "type": "scatter",
         "x": [
          0.5,
          0.55,
          0.6000000000000001,
          0.6500000000000001,
          0.7000000000000002,
          0.7500000000000002,
          0.8000000000000003,
          0.8500000000000003,
          0.9000000000000004,
          0.9500000000000004
         ],
         "xaxis": "x2",
         "y": [
          86.301,
          86.78,
          87.423,
          87.687,
          88.286,
          88.737,
          89.31,
          89.917,
          90.696,
          91.446
         ],
         "yaxis": "y2"
        },
        {
         "name": "",
         "text": "Data Retained",
         "type": "scatter",
         "x": [
          0.5,
          0.55,
          0.6000000000000001,
          0.6500000000000001,
          0.7000000000000002,
          0.7500000000000002,
          0.8000000000000003,
          0.8500000000000003,
          0.9000000000000004,
          0.9500000000000004
         ],
         "xaxis": "x2",
         "y": [
          99.83,
          99.2,
          98.51,
          97.82,
          97.02,
          96.21,
          94.99,
          93.84,
          91.93,
          88.81
         ],
         "yaxis": "y2"
        }
       ],
       "layout": {
        "annotations": [
         {
          "font": {
           "size": 16
          },
          "showarrow": false,
          "text": "Profits by Cutoff",
          "x": 0.5,
          "xanchor": "center",
          "xref": "paper",
          "y": 1,
          "yanchor": "bottom",
          "yref": "paper"
         },
         {
          "font": {
           "size": 16
          },
          "showarrow": false,
          "text": "Model Performance vs. Data Retained",
          "x": 0.5,
          "xanchor": "center",
          "xref": "paper",
          "y": 0.45,
          "yanchor": "bottom",
          "yref": "paper"
         }
        ],
        "font": {
         "color": "#7f7f7f",
         "family": "Courier New, monospace",
         "size": 18
        },
        "height": 800,
        "showlegend": false,
        "template": {
         "data": {
          "bar": [
           {
            "error_x": {
             "color": "#2a3f5f"
            },
            "error_y": {
             "color": "#2a3f5f"
            },
            "marker": {
             "line": {
              "color": "#E5ECF6",
              "width": 0.5
             }
            },
            "type": "bar"
           }
          ],
          "barpolar": [
           {
            "marker": {
             "line": {
              "color": "#E5ECF6",
              "width": 0.5
             }
            },
            "type": "barpolar"
           }
          ],
          "carpet": [
           {
            "aaxis": {
             "endlinecolor": "#2a3f5f",
             "gridcolor": "white",
             "linecolor": "white",
             "minorgridcolor": "white",
             "startlinecolor": "#2a3f5f"
            },
            "baxis": {
             "endlinecolor": "#2a3f5f",
             "gridcolor": "white",
             "linecolor": "white",
             "minorgridcolor": "white",
             "startlinecolor": "#2a3f5f"
            },
            "type": "carpet"
           }
          ],
          "choropleth": [
           {
            "colorbar": {
             "outlinewidth": 0,
             "ticks": ""
            },
            "type": "choropleth"
           }
          ],
          "contour": [
           {
            "colorbar": {
             "outlinewidth": 0,
             "ticks": ""
            },
            "colorscale": [
             [
              0,
              "#0d0887"
             ],
             [
              0.1111111111111111,
              "#46039f"
             ],
             [
              0.2222222222222222,
              "#7201a8"
             ],
             [
              0.3333333333333333,
              "#9c179e"
             ],
             [
              0.4444444444444444,
              "#bd3786"
             ],
             [
              0.5555555555555556,
              "#d8576b"
             ],
             [
              0.6666666666666666,
              "#ed7953"
             ],
             [
              0.7777777777777778,
              "#fb9f3a"
             ],
             [
              0.8888888888888888,
              "#fdca26"
             ],
             [
              1,
              "#f0f921"
             ]
            ],
            "type": "contour"
           }
          ],
          "contourcarpet": [
           {
            "colorbar": {
             "outlinewidth": 0,
             "ticks": ""
            },
            "type": "contourcarpet"
           }
          ],
          "heatmap": [
           {
            "colorbar": {
             "outlinewidth": 0,
             "ticks": ""
            },
            "colorscale": [
             [
              0,
              "#0d0887"
             ],
             [
              0.1111111111111111,
              "#46039f"
             ],
             [
              0.2222222222222222,
              "#7201a8"
             ],
             [
              0.3333333333333333,
              "#9c179e"
             ],
             [
              0.4444444444444444,
              "#bd3786"
             ],
             [
              0.5555555555555556,
              "#d8576b"
             ],
             [
              0.6666666666666666,
              "#ed7953"
             ],
             [
              0.7777777777777778,
              "#fb9f3a"
             ],
             [
              0.8888888888888888,
              "#fdca26"
             ],
             [
              1,
              "#f0f921"
             ]
            ],
            "type": "heatmap"
           }
          ],
          "heatmapgl": [
           {
            "colorbar": {
             "outlinewidth": 0,
             "ticks": ""
            },
            "colorscale": [
             [
              0,
              "#0d0887"
             ],
             [
              0.1111111111111111,
              "#46039f"
             ],
             [
              0.2222222222222222,
              "#7201a8"
             ],
             [
              0.3333333333333333,
              "#9c179e"
             ],
             [
              0.4444444444444444,
              "#bd3786"
             ],
             [
              0.5555555555555556,
              "#d8576b"
             ],
             [
              0.6666666666666666,
              "#ed7953"
             ],
             [
              0.7777777777777778,
              "#fb9f3a"
             ],
             [
              0.8888888888888888,
              "#fdca26"
             ],
             [
              1,
              "#f0f921"
             ]
            ],
            "type": "heatmapgl"
           }
          ],
          "histogram": [
           {
            "marker": {
             "colorbar": {
              "outlinewidth": 0,
              "ticks": ""
             }
            },
            "type": "histogram"
           }
          ],
          "histogram2d": [
           {
            "colorbar": {
             "outlinewidth": 0,
             "ticks": ""
            },
            "colorscale": [
             [
              0,
              "#0d0887"
             ],
             [
              0.1111111111111111,
              "#46039f"
             ],
             [
              0.2222222222222222,
              "#7201a8"
             ],
             [
              0.3333333333333333,
              "#9c179e"
             ],
             [
              0.4444444444444444,
              "#bd3786"
             ],
             [
              0.5555555555555556,
              "#d8576b"
             ],
             [
              0.6666666666666666,
              "#ed7953"
             ],
             [
              0.7777777777777778,
              "#fb9f3a"
             ],
             [
              0.8888888888888888,
              "#fdca26"
             ],
             [
              1,
              "#f0f921"
             ]
            ],
            "type": "histogram2d"
           }
          ],
          "histogram2dcontour": [
           {
            "colorbar": {
             "outlinewidth": 0,
             "ticks": ""
            },
            "colorscale": [
             [
              0,
              "#0d0887"
             ],
             [
              0.1111111111111111,
              "#46039f"
             ],
             [
              0.2222222222222222,
              "#7201a8"
             ],
             [
              0.3333333333333333,
              "#9c179e"
             ],
             [
              0.4444444444444444,
              "#bd3786"
             ],
             [
              0.5555555555555556,
              "#d8576b"
             ],
             [
              0.6666666666666666,
              "#ed7953"
             ],
             [
              0.7777777777777778,
              "#fb9f3a"
             ],
             [
              0.8888888888888888,
              "#fdca26"
             ],
             [
              1,
              "#f0f921"
             ]
            ],
            "type": "histogram2dcontour"
           }
          ],
          "mesh3d": [
           {
            "colorbar": {
             "outlinewidth": 0,
             "ticks": ""
            },
            "type": "mesh3d"
           }
          ],
          "parcoords": [
           {
            "line": {
             "colorbar": {
              "outlinewidth": 0,
              "ticks": ""
             }
            },
            "type": "parcoords"
           }
          ],
          "scatter": [
           {
            "marker": {
             "colorbar": {
              "outlinewidth": 0,
              "ticks": ""
             }
            },
            "type": "scatter"
           }
          ],
          "scatter3d": [
           {
            "line": {
             "colorbar": {
              "outlinewidth": 0,
              "ticks": ""
             }
            },
            "marker": {
             "colorbar": {
              "outlinewidth": 0,
              "ticks": ""
             }
            },
            "type": "scatter3d"
           }
          ],
          "scattercarpet": [
           {
            "marker": {
             "colorbar": {
              "outlinewidth": 0,
              "ticks": ""
             }
            },
            "type": "scattercarpet"
           }
          ],
          "scattergeo": [
           {
            "marker": {
             "colorbar": {
              "outlinewidth": 0,
              "ticks": ""
             }
            },
            "type": "scattergeo"
           }
          ],
          "scattergl": [
           {
            "marker": {
             "colorbar": {
              "outlinewidth": 0,
              "ticks": ""
             }
            },
            "type": "scattergl"
           }
          ],
          "scattermapbox": [
           {
            "marker": {
             "colorbar": {
              "outlinewidth": 0,
              "ticks": ""
             }
            },
            "type": "scattermapbox"
           }
          ],
          "scatterpolar": [
           {
            "marker": {
             "colorbar": {
              "outlinewidth": 0,
              "ticks": ""
             }
            },
            "type": "scatterpolar"
           }
          ],
          "scatterpolargl": [
           {
            "marker": {
             "colorbar": {
              "outlinewidth": 0,
              "ticks": ""
             }
            },
            "type": "scatterpolargl"
           }
          ],
          "scatterternary": [
           {
            "marker": {
             "colorbar": {
              "outlinewidth": 0,
              "ticks": ""
             }
            },
            "type": "scatterternary"
           }
          ],
          "surface": [
           {
            "colorbar": {
             "outlinewidth": 0,
             "ticks": ""
            },
            "colorscale": [
             [
              0,
              "#0d0887"
             ],
             [
              0.1111111111111111,
              "#46039f"
             ],
             [
              0.2222222222222222,
              "#7201a8"
             ],
             [
              0.3333333333333333,
              "#9c179e"
             ],
             [
              0.4444444444444444,
              "#bd3786"
             ],
             [
              0.5555555555555556,
              "#d8576b"
             ],
             [
              0.6666666666666666,
              "#ed7953"
             ],
             [
              0.7777777777777778,
              "#fb9f3a"
             ],
             [
              0.8888888888888888,
              "#fdca26"
             ],
             [
              1,
              "#f0f921"
             ]
            ],
            "type": "surface"
           }
          ],
          "table": [
           {
            "cells": {
             "fill": {
              "color": "#EBF0F8"
             },
             "line": {
              "color": "white"
             }
            },
            "header": {
             "fill": {
              "color": "#C8D4E3"
             },
             "line": {
              "color": "white"
             }
            },
            "type": "table"
           }
          ]
         },
         "layout": {
          "annotationdefaults": {
           "arrowcolor": "#2a3f5f",
           "arrowhead": 0,
           "arrowwidth": 1
          },
          "colorscale": {
           "diverging": [
            [
             0,
             "#8e0152"
            ],
            [
             0.1,
             "#c51b7d"
            ],
            [
             0.2,
             "#de77ae"
            ],
            [
             0.3,
             "#f1b6da"
            ],
            [
             0.4,
             "#fde0ef"
            ],
            [
             0.5,
             "#f7f7f7"
            ],
            [
             0.6,
             "#e6f5d0"
            ],
            [
             0.7,
             "#b8e186"
            ],
            [
             0.8,
             "#7fbc41"
            ],
            [
             0.9,
             "#4d9221"
            ],
            [
             1,
             "#276419"
            ]
           ],
           "sequential": [
            [
             0,
             "#0d0887"
            ],
            [
             0.1111111111111111,
             "#46039f"
            ],
            [
             0.2222222222222222,
             "#7201a8"
            ],
            [
             0.3333333333333333,
             "#9c179e"
            ],
            [
             0.4444444444444444,
             "#bd3786"
            ],
            [
             0.5555555555555556,
             "#d8576b"
            ],
            [
             0.6666666666666666,
             "#ed7953"
            ],
            [
             0.7777777777777778,
             "#fb9f3a"
            ],
            [
             0.8888888888888888,
             "#fdca26"
            ],
            [
             1,
             "#f0f921"
            ]
           ],
           "sequentialminus": [
            [
             0,
             "#0d0887"
            ],
            [
             0.1111111111111111,
             "#46039f"
            ],
            [
             0.2222222222222222,
             "#7201a8"
            ],
            [
             0.3333333333333333,
             "#9c179e"
            ],
            [
             0.4444444444444444,
             "#bd3786"
            ],
            [
             0.5555555555555556,
             "#d8576b"
            ],
            [
             0.6666666666666666,
             "#ed7953"
            ],
            [
             0.7777777777777778,
             "#fb9f3a"
            ],
            [
             0.8888888888888888,
             "#fdca26"
            ],
            [
             1,
             "#f0f921"
            ]
           ]
          },
          "colorway": [
           "#636efa",
           "#EF553B",
           "#00cc96",
           "#ab63fa",
           "#FFA15A",
           "#19d3f3",
           "#FF6692",
           "#B6E880",
           "#FF97FF",
           "#FECB52"
          ],
          "font": {
           "color": "#2a3f5f"
          },
          "geo": {
           "bgcolor": "white",
           "lakecolor": "white",
           "landcolor": "#E5ECF6",
           "showlakes": true,
           "showland": true,
           "subunitcolor": "white"
          },
          "hoverlabel": {
           "align": "left"
          },
          "hovermode": "closest",
          "mapbox": {
           "style": "light"
          },
          "paper_bgcolor": "white",
          "plot_bgcolor": "#E5ECF6",
          "polar": {
           "angularaxis": {
            "gridcolor": "white",
            "linecolor": "white",
            "ticks": ""
           },
           "bgcolor": "#E5ECF6",
           "radialaxis": {
            "gridcolor": "white",
            "linecolor": "white",
            "ticks": ""
           }
          },
          "scene": {
           "xaxis": {
            "backgroundcolor": "#E5ECF6",
            "gridcolor": "white",
            "gridwidth": 2,
            "linecolor": "white",
            "showbackground": true,
            "ticks": "",
            "zerolinecolor": "white"
           },
           "yaxis": {
            "backgroundcolor": "#E5ECF6",
            "gridcolor": "white",
            "gridwidth": 2,
            "linecolor": "white",
            "showbackground": true,
            "ticks": "",
            "zerolinecolor": "white"
           },
           "zaxis": {
            "backgroundcolor": "#E5ECF6",
            "gridcolor": "white",
            "gridwidth": 2,
            "linecolor": "white",
            "showbackground": true,
            "ticks": "",
            "zerolinecolor": "white"
           }
          },
          "shapedefaults": {
           "line": {
            "color": "#2a3f5f"
           }
          },
          "ternary": {
           "aaxis": {
            "gridcolor": "white",
            "linecolor": "white",
            "ticks": ""
           },
           "baxis": {
            "gridcolor": "white",
            "linecolor": "white",
            "ticks": ""
           },
           "bgcolor": "#E5ECF6",
           "caxis": {
            "gridcolor": "white",
            "linecolor": "white",
            "ticks": ""
           }
          },
          "title": {
           "x": 0.05
          },
          "xaxis": {
           "automargin": true,
           "gridcolor": "white",
           "linecolor": "white",
           "ticks": "",
           "zerolinecolor": "white",
           "zerolinewidth": 2
          },
          "yaxis": {
           "automargin": true,
           "gridcolor": "white",
           "linecolor": "white",
           "ticks": "",
           "zerolinecolor": "white",
           "zerolinewidth": 2
          }
         }
        },
        "title": {
         "text": "Cost-Benefit for Probability Cutoffs"
        },
        "width": 600,
        "xaxis": {
         "anchor": "y",
         "domain": [
          0,
          1
         ],
         "matches": "x2",
         "showticklabels": false
        },
        "xaxis2": {
         "anchor": "y2",
         "domain": [
          0,
          1
         ],
         "tickfont": {
          "size": 14
         },
         "title": {
          "text": "Probability Cutoffs"
         }
        },
        "yaxis": {
         "anchor": "x",
         "domain": [
          0.55,
          1
         ],
         "tickfont": {
          "size": 12
         },
         "title": {
          "text": "Profit"
         }
        },
        "yaxis2": {
         "anchor": "x2",
         "domain": [
          0,
          0.45
         ],
         "tickfont": {
          "size": 12
         },
         "title": {
          "text": "Percentage"
         }
        }
       }
      },
      "text/html": [
       "<div>\n",
       "        \n",
       "        \n",
       "            <div id=\"088b46e5-4a45-4634-8933-395f256597b7\" class=\"plotly-graph-div\" style=\"height:800px; width:600px;\"></div>\n",
       "            <script type=\"text/javascript\">\n",
       "                require([\"plotly\"], function(Plotly) {\n",
       "                    window.PLOTLYENV=window.PLOTLYENV || {};\n",
       "                    \n",
       "                if (document.getElementById(\"088b46e5-4a45-4634-8933-395f256597b7\")) {\n",
       "                    Plotly.newPlot(\n",
       "                        '088b46e5-4a45-4634-8933-395f256597b7',\n",
       "                        [{\"name\": \"\", \"text\": \"Profit at Cutoff\", \"type\": \"scatter\", \"x\": [0.5, 0.55, 0.6000000000000001, 0.6500000000000001, 0.7000000000000002, 0.7500000000000002, 0.8000000000000003, 0.8500000000000003, 0.9000000000000004, 0.9500000000000004], \"xaxis\": \"x\", \"y\": [1719, 1927, 2149, 2245, 2396, 2529, 2730, 2831, 3101, 3400], \"yaxis\": \"y\"}, {\"name\": \"\", \"text\": \"F1 score at Cutoff\", \"type\": \"scatter\", \"x\": [0.5, 0.55, 0.6000000000000001, 0.6500000000000001, 0.7000000000000002, 0.7500000000000002, 0.8000000000000003, 0.8500000000000003, 0.9000000000000004, 0.9500000000000004], \"xaxis\": \"x2\", \"y\": [86.301, 86.78, 87.423, 87.687, 88.286, 88.737, 89.31, 89.917, 90.696, 91.446], \"yaxis\": \"y2\"}, {\"name\": \"\", \"text\": \"Data Retained\", \"type\": \"scatter\", \"x\": [0.5, 0.55, 0.6000000000000001, 0.6500000000000001, 0.7000000000000002, 0.7500000000000002, 0.8000000000000003, 0.8500000000000003, 0.9000000000000004, 0.9500000000000004], \"xaxis\": \"x2\", \"y\": [99.83, 99.2, 98.51, 97.82, 97.02, 96.21, 94.99, 93.84, 91.93, 88.81], \"yaxis\": \"y2\"}],\n",
       "                        {\"annotations\": [{\"font\": {\"size\": 16}, \"showarrow\": false, \"text\": \"Profits by Cutoff\", \"x\": 0.5, \"xanchor\": \"center\", \"xref\": \"paper\", \"y\": 1.0, \"yanchor\": \"bottom\", \"yref\": \"paper\"}, {\"font\": {\"size\": 16}, \"showarrow\": false, \"text\": \"Model Performance vs. Data Retained\", \"x\": 0.5, \"xanchor\": \"center\", \"xref\": \"paper\", \"y\": 0.45, \"yanchor\": \"bottom\", \"yref\": \"paper\"}], \"font\": {\"color\": \"#7f7f7f\", \"family\": \"Courier New, monospace\", \"size\": 18}, \"height\": 800, \"showlegend\": false, \"template\": {\"data\": {\"bar\": [{\"error_x\": {\"color\": \"#2a3f5f\"}, \"error_y\": {\"color\": \"#2a3f5f\"}, \"marker\": {\"line\": {\"color\": \"#E5ECF6\", \"width\": 0.5}}, \"type\": \"bar\"}], \"barpolar\": [{\"marker\": {\"line\": {\"color\": \"#E5ECF6\", \"width\": 0.5}}, \"type\": \"barpolar\"}], \"carpet\": [{\"aaxis\": {\"endlinecolor\": \"#2a3f5f\", \"gridcolor\": \"white\", \"linecolor\": \"white\", \"minorgridcolor\": \"white\", \"startlinecolor\": \"#2a3f5f\"}, \"baxis\": {\"endlinecolor\": \"#2a3f5f\", \"gridcolor\": \"white\", \"linecolor\": \"white\", \"minorgridcolor\": \"white\", \"startlinecolor\": \"#2a3f5f\"}, \"type\": \"carpet\"}], \"choropleth\": [{\"colorbar\": {\"outlinewidth\": 0, \"ticks\": \"\"}, \"type\": \"choropleth\"}], \"contour\": [{\"colorbar\": {\"outlinewidth\": 0, \"ticks\": \"\"}, \"colorscale\": [[0.0, \"#0d0887\"], [0.1111111111111111, \"#46039f\"], [0.2222222222222222, \"#7201a8\"], [0.3333333333333333, \"#9c179e\"], [0.4444444444444444, \"#bd3786\"], [0.5555555555555556, \"#d8576b\"], [0.6666666666666666, \"#ed7953\"], [0.7777777777777778, \"#fb9f3a\"], [0.8888888888888888, \"#fdca26\"], [1.0, \"#f0f921\"]], \"type\": \"contour\"}], \"contourcarpet\": [{\"colorbar\": {\"outlinewidth\": 0, \"ticks\": \"\"}, \"type\": \"contourcarpet\"}], \"heatmap\": [{\"colorbar\": {\"outlinewidth\": 0, \"ticks\": \"\"}, \"colorscale\": [[0.0, \"#0d0887\"], [0.1111111111111111, \"#46039f\"], [0.2222222222222222, \"#7201a8\"], [0.3333333333333333, \"#9c179e\"], [0.4444444444444444, \"#bd3786\"], [0.5555555555555556, \"#d8576b\"], [0.6666666666666666, \"#ed7953\"], [0.7777777777777778, \"#fb9f3a\"], [0.8888888888888888, \"#fdca26\"], [1.0, \"#f0f921\"]], \"type\": \"heatmap\"}], \"heatmapgl\": [{\"colorbar\": {\"outlinewidth\": 0, \"ticks\": \"\"}, \"colorscale\": [[0.0, \"#0d0887\"], [0.1111111111111111, \"#46039f\"], [0.2222222222222222, \"#7201a8\"], [0.3333333333333333, \"#9c179e\"], [0.4444444444444444, \"#bd3786\"], [0.5555555555555556, \"#d8576b\"], [0.6666666666666666, \"#ed7953\"], [0.7777777777777778, \"#fb9f3a\"], [0.8888888888888888, \"#fdca26\"], [1.0, \"#f0f921\"]], \"type\": \"heatmapgl\"}], \"histogram\": [{\"marker\": {\"colorbar\": {\"outlinewidth\": 0, \"ticks\": \"\"}}, \"type\": \"histogram\"}], \"histogram2d\": [{\"colorbar\": {\"outlinewidth\": 0, \"ticks\": \"\"}, \"colorscale\": [[0.0, \"#0d0887\"], [0.1111111111111111, \"#46039f\"], [0.2222222222222222, \"#7201a8\"], [0.3333333333333333, \"#9c179e\"], [0.4444444444444444, \"#bd3786\"], [0.5555555555555556, \"#d8576b\"], [0.6666666666666666, \"#ed7953\"], [0.7777777777777778, \"#fb9f3a\"], [0.8888888888888888, \"#fdca26\"], [1.0, \"#f0f921\"]], \"type\": \"histogram2d\"}], \"histogram2dcontour\": [{\"colorbar\": {\"outlinewidth\": 0, \"ticks\": \"\"}, \"colorscale\": [[0.0, \"#0d0887\"], [0.1111111111111111, \"#46039f\"], [0.2222222222222222, \"#7201a8\"], [0.3333333333333333, \"#9c179e\"], [0.4444444444444444, \"#bd3786\"], [0.5555555555555556, \"#d8576b\"], [0.6666666666666666, \"#ed7953\"], [0.7777777777777778, \"#fb9f3a\"], [0.8888888888888888, \"#fdca26\"], [1.0, \"#f0f921\"]], \"type\": \"histogram2dcontour\"}], \"mesh3d\": [{\"colorbar\": {\"outlinewidth\": 0, \"ticks\": \"\"}, \"type\": \"mesh3d\"}], \"parcoords\": [{\"line\": {\"colorbar\": {\"outlinewidth\": 0, \"ticks\": \"\"}}, \"type\": \"parcoords\"}], \"scatter\": [{\"marker\": {\"colorbar\": {\"outlinewidth\": 0, \"ticks\": \"\"}}, \"type\": \"scatter\"}], \"scatter3d\": [{\"line\": {\"colorbar\": {\"outlinewidth\": 0, \"ticks\": \"\"}}, \"marker\": {\"colorbar\": {\"outlinewidth\": 0, \"ticks\": \"\"}}, \"type\": \"scatter3d\"}], \"scattercarpet\": [{\"marker\": {\"colorbar\": {\"outlinewidth\": 0, \"ticks\": \"\"}}, \"type\": \"scattercarpet\"}], \"scattergeo\": [{\"marker\": {\"colorbar\": {\"outlinewidth\": 0, \"ticks\": \"\"}}, \"type\": \"scattergeo\"}], \"scattergl\": [{\"marker\": {\"colorbar\": {\"outlinewidth\": 0, \"ticks\": \"\"}}, \"type\": \"scattergl\"}], \"scattermapbox\": [{\"marker\": {\"colorbar\": {\"outlinewidth\": 0, \"ticks\": \"\"}}, \"type\": \"scattermapbox\"}], \"scatterpolar\": [{\"marker\": {\"colorbar\": {\"outlinewidth\": 0, \"ticks\": \"\"}}, \"type\": \"scatterpolar\"}], \"scatterpolargl\": [{\"marker\": {\"colorbar\": {\"outlinewidth\": 0, \"ticks\": \"\"}}, \"type\": \"scatterpolargl\"}], \"scatterternary\": [{\"marker\": {\"colorbar\": {\"outlinewidth\": 0, \"ticks\": \"\"}}, \"type\": \"scatterternary\"}], \"surface\": [{\"colorbar\": {\"outlinewidth\": 0, \"ticks\": \"\"}, \"colorscale\": [[0.0, \"#0d0887\"], [0.1111111111111111, \"#46039f\"], [0.2222222222222222, \"#7201a8\"], [0.3333333333333333, \"#9c179e\"], [0.4444444444444444, \"#bd3786\"], [0.5555555555555556, \"#d8576b\"], [0.6666666666666666, \"#ed7953\"], [0.7777777777777778, \"#fb9f3a\"], [0.8888888888888888, \"#fdca26\"], [1.0, \"#f0f921\"]], \"type\": \"surface\"}], \"table\": [{\"cells\": {\"fill\": {\"color\": \"#EBF0F8\"}, \"line\": {\"color\": \"white\"}}, \"header\": {\"fill\": {\"color\": \"#C8D4E3\"}, \"line\": {\"color\": \"white\"}}, \"type\": \"table\"}]}, \"layout\": {\"annotationdefaults\": {\"arrowcolor\": \"#2a3f5f\", \"arrowhead\": 0, \"arrowwidth\": 1}, \"colorscale\": {\"diverging\": [[0, \"#8e0152\"], [0.1, \"#c51b7d\"], [0.2, \"#de77ae\"], [0.3, \"#f1b6da\"], [0.4, \"#fde0ef\"], [0.5, \"#f7f7f7\"], [0.6, \"#e6f5d0\"], [0.7, \"#b8e186\"], [0.8, \"#7fbc41\"], [0.9, \"#4d9221\"], [1, \"#276419\"]], \"sequential\": [[0.0, \"#0d0887\"], [0.1111111111111111, \"#46039f\"], [0.2222222222222222, \"#7201a8\"], [0.3333333333333333, \"#9c179e\"], [0.4444444444444444, \"#bd3786\"], [0.5555555555555556, \"#d8576b\"], [0.6666666666666666, \"#ed7953\"], [0.7777777777777778, \"#fb9f3a\"], [0.8888888888888888, \"#fdca26\"], [1.0, \"#f0f921\"]], \"sequentialminus\": [[0.0, \"#0d0887\"], [0.1111111111111111, \"#46039f\"], [0.2222222222222222, \"#7201a8\"], [0.3333333333333333, \"#9c179e\"], [0.4444444444444444, \"#bd3786\"], [0.5555555555555556, \"#d8576b\"], [0.6666666666666666, \"#ed7953\"], [0.7777777777777778, \"#fb9f3a\"], [0.8888888888888888, \"#fdca26\"], [1.0, \"#f0f921\"]]}, \"colorway\": [\"#636efa\", \"#EF553B\", \"#00cc96\", \"#ab63fa\", \"#FFA15A\", \"#19d3f3\", \"#FF6692\", \"#B6E880\", \"#FF97FF\", \"#FECB52\"], \"font\": {\"color\": \"#2a3f5f\"}, \"geo\": {\"bgcolor\": \"white\", \"lakecolor\": \"white\", \"landcolor\": \"#E5ECF6\", \"showlakes\": true, \"showland\": true, \"subunitcolor\": \"white\"}, \"hoverlabel\": {\"align\": \"left\"}, \"hovermode\": \"closest\", \"mapbox\": {\"style\": \"light\"}, \"paper_bgcolor\": \"white\", \"plot_bgcolor\": \"#E5ECF6\", \"polar\": {\"angularaxis\": {\"gridcolor\": \"white\", \"linecolor\": \"white\", \"ticks\": \"\"}, \"bgcolor\": \"#E5ECF6\", \"radialaxis\": {\"gridcolor\": \"white\", \"linecolor\": \"white\", \"ticks\": \"\"}}, \"scene\": {\"xaxis\": {\"backgroundcolor\": \"#E5ECF6\", \"gridcolor\": \"white\", \"gridwidth\": 2, \"linecolor\": \"white\", \"showbackground\": true, \"ticks\": \"\", \"zerolinecolor\": \"white\"}, \"yaxis\": {\"backgroundcolor\": \"#E5ECF6\", \"gridcolor\": \"white\", \"gridwidth\": 2, \"linecolor\": \"white\", \"showbackground\": true, \"ticks\": \"\", \"zerolinecolor\": \"white\"}, \"zaxis\": {\"backgroundcolor\": \"#E5ECF6\", \"gridcolor\": \"white\", \"gridwidth\": 2, \"linecolor\": \"white\", \"showbackground\": true, \"ticks\": \"\", \"zerolinecolor\": \"white\"}}, \"shapedefaults\": {\"line\": {\"color\": \"#2a3f5f\"}}, \"ternary\": {\"aaxis\": {\"gridcolor\": \"white\", \"linecolor\": \"white\", \"ticks\": \"\"}, \"baxis\": {\"gridcolor\": \"white\", \"linecolor\": \"white\", \"ticks\": \"\"}, \"bgcolor\": \"#E5ECF6\", \"caxis\": {\"gridcolor\": \"white\", \"linecolor\": \"white\", \"ticks\": \"\"}}, \"title\": {\"x\": 0.05}, \"xaxis\": {\"automargin\": true, \"gridcolor\": \"white\", \"linecolor\": \"white\", \"ticks\": \"\", \"zerolinecolor\": \"white\", \"zerolinewidth\": 2}, \"yaxis\": {\"automargin\": true, \"gridcolor\": \"white\", \"linecolor\": \"white\", \"ticks\": \"\", \"zerolinecolor\": \"white\", \"zerolinewidth\": 2}}}, \"title\": {\"text\": \"Cost-Benefit for Probability Cutoffs\"}, \"width\": 600, \"xaxis\": {\"anchor\": \"y\", \"domain\": [0.0, 1.0], \"matches\": \"x2\", \"showticklabels\": false}, \"xaxis2\": {\"anchor\": \"y2\", \"domain\": [0.0, 1.0], \"tickfont\": {\"size\": 14}, \"title\": {\"text\": \"Probability Cutoffs\"}}, \"yaxis\": {\"anchor\": \"x\", \"domain\": [0.55, 1.0], \"tickfont\": {\"size\": 12}, \"title\": {\"text\": \"Profit\"}}, \"yaxis2\": {\"anchor\": \"x2\", \"domain\": [0.0, 0.45], \"tickfont\": {\"size\": 12}, \"title\": {\"text\": \"Percentage\"}}},\n",
       "                        {\"responsive\": true}\n",
       "                    ).then(function(){\n",
       "                            \n",
       "var gd = document.getElementById('088b46e5-4a45-4634-8933-395f256597b7');\n",
       "var x = new MutationObserver(function (mutations, observer) {{\n",
       "        var display = window.getComputedStyle(gd).display;\n",
       "        if (!display || display === 'none') {{\n",
       "            console.log([gd, 'removed!']);\n",
       "            Plotly.purge(gd);\n",
       "            observer.disconnect();\n",
       "        }}\n",
       "}});\n",
       "\n",
       "// Listen for the removal of the full notebook cells\n",
       "var notebookContainer = gd.closest('#notebook-container');\n",
       "if (notebookContainer) {{\n",
       "    x.observe(notebookContainer, {childList: true});\n",
       "}}\n",
       "\n",
       "// Listen for the clearing of the current output cell\n",
       "var outputEl = gd.closest('.output');\n",
       "if (outputEl) {{\n",
       "    x.observe(outputEl, {childList: true});\n",
       "}}\n",
       "\n",
       "                        })\n",
       "                };\n",
       "                });\n",
       "            </script>\n",
       "        </div>"
      ]
     },
     "metadata": {},
     "output_type": "display_data"
    }
   ],
   "source": [
    "def plot_cost_cm(df, cols, cost_matrix,\n",
    "                 neg_cut=0.92, pos_cut=0.92, mix_cut=0.92,\n",
    "                 return_plot=True):\n",
    "    \"\"\"\n",
    "    Return cost-benefit confusion matrix.\n",
    "    \n",
    "    Add cost-matrix with hypothetical/ realistic costs and benefits\n",
    "    for incorrect and correct predictions. The resulting confusion \n",
    "    matrix will multiply the cost-matrix by the confusion matrix,\n",
    "    taking into consideration chosen probability cutoffs.\n",
    "    \n",
    "    The maximum probability or stanard 0.5 threshold is not \n",
    "    automatically applied.\n",
    "    \"\"\"\n",
    "    \n",
    "    neg_certain = list(df.index[(df[cols[0]] > neg_cut)])\n",
    "    pos_certain = list(df.index[(df[cols[1]] > pos_cut)])\n",
    "    mix_certain = list(df.index[df[cols[2]] > mix_cut])\n",
    "    incl_total = list(set(neg_certain + pos_certain + mix_certain))\n",
    "    \n",
    "    retained = (len(incl_total)/len(df))*100\n",
    "    \n",
    "    uncertain = df[~df.index.isin(incl_total)]\n",
    "    certain = df[df.index.isin(incl_total)]\n",
    "\n",
    "    f1_certain = f1_score(certain.label, certain.preds, average='macro')\n",
    "    \n",
    "    cm = confusion_matrix(certain.label, certain.preds)\n",
    "    cm_cost = np.round(cm*cost_matrix, 2)\n",
    "    profit = cm_cost.sum()\n",
    "    \n",
    "    if return_plot:\n",
    "        print('Retained Data: {:0.2f}%'.format(retained))\n",
    "        print('Macro-F1 Score: {}'.format(f1_certain))\n",
    "        print('Total Profits: {}'.format(profit))\n",
    "        plot_confusion_matrix(cm_cost, ['neg', 'pos', 'mixed'], normalize=False)\n",
    "    \n",
    "    return profit, retained, f1_certain\n",
    "\n",
    "def plot_cost_benefit_thresholds(cost_matrix, predictions):\n",
    "    \"\"\"\n",
    "    Plot the range of probability cutoffs from 0.5 to 0.95\n",
    "    for the: \n",
    "    1) total profit \n",
    "    2) f1-scores (recall-precision geometric mean)\n",
    "    3) amount of data retained after excluding all cases with \n",
    "    probabilities below the chosen thresholds.\n",
    "    \"\"\"\n",
    "    \n",
    "    thresholds = np.arange(0.5, 1.0, 0.05)\n",
    "    profits = []\n",
    "    perc_retained = []\n",
    "    f1_scores = []\n",
    "    for threshold in thresholds:\n",
    "        profit, retained, f1 = plot_cost_cm(predictions, \n",
    "                                            ['neg', 'pos', 'mixed'],\n",
    "                                            cost_matrix, \n",
    "                                            neg_cut=threshold, \n",
    "                                            pos_cut=threshold, \n",
    "                                            mix_cut=threshold,\n",
    "                                            return_plot=False)\n",
    "        profits.append(profit)\n",
    "        perc_retained.append(round(retained, 2))\n",
    "        f1_scores.append(round(f1*100, 3))\n",
    "        \n",
    "    fig = make_subplots(rows=2, cols=1, shared_xaxes=True,\n",
    "                        vertical_spacing = 0.1,\n",
    "                        subplot_titles=(\"Profits by Cutoff\", \n",
    "                                        \"Model Performance vs. Data Retained\"))\n",
    "\n",
    "    fig.append_trace(go.Scatter(x=thresholds, y=profits, text='Profit at Cutoff',\n",
    "        name=''), row=1, col=1)\n",
    "\n",
    "    fig.append_trace(go.Scatter(x=thresholds, y=f1_scores, \n",
    "        text='F1 score at Cutoff', name=''), row=2, col=1)\n",
    "\n",
    "    fig.append_trace(go.Scatter(x=thresholds,y=perc_retained,\n",
    "        text='Data Retained', name=''), row=2, col=1)\n",
    "    \n",
    "    fig.update_xaxes(tickfont=dict(size=14),\n",
    "                     title_text=\"Probability Cutoffs\", row=2, col=1)\n",
    "    \n",
    "    fig.update_yaxes(title_text=\"Profit\", tickfont=dict(size=12), row=1, col=1)\n",
    "    fig.update_yaxes(title_text=\"Percentage\", tickfont=dict(size=12), row=2, col=1)\n",
    "\n",
    "    fig.update_layout(height=800, width=600, \n",
    "                      title_text=\"Cost-Benefit for Probability Cutoffs\",\n",
    "                      font=dict(family=\"Courier New, monospace\",\n",
    "                                size=18,\n",
    "                                color=\"#7f7f7f\"),\n",
    "                     showlegend=False)\n",
    "    fig.show()\n",
    "    \n",
    "plot_cost_benefit_thresholds(cost_matrix, predictions)"
   ]
  },
  {
   "cell_type": "markdown",
   "metadata": {},
   "source": [
    "--------------------------------------\n",
    "**Profit continues to increase as we make the confidence threshold higher.** In other words, if we only take confident predictions we see increased profits because misclassifications are minimized and correct classifications are maximized. \n",
    "\n",
    "However, as we do so, we also reduce the number of reviews automatically answered. This adds labor costs, and so as volume increases it may become more desirable to have a lower cutoff (add a bit more risk) to keep volume low (reduce need to hire more employees as the company grows). "
   ]
  },
  {
   "cell_type": "markdown",
   "metadata": {},
   "source": [
    "<a id=\"cm_cut\"></a>\n",
    "## Cost-Profit Confusion Matrix @ .8 Cutoff\n",
    "\n",
    "Confusion matrix for cost-profits after only taking predictions above .8 confidence."
   ]
  },
  {
   "cell_type": "code",
   "execution_count": 8,
   "metadata": {},
   "outputs": [
    {
     "name": "stdout",
     "output_type": "stream",
     "text": [
      "Retained Data: 94.99%\n",
      "Macro-F1 Score: 0.8931035382420173\n",
      "Total Profits: 2730\n",
      "Confusion matrix, without normalization\n"
     ]
    },
    {
     "data": {
      "image/png": "[encoded data removed]",
      "text/plain": [
       "<Figure size 360x360 with 2 Axes>"
      ]
     },
     "metadata": {},
     "output_type": "display_data"
    }
   ],
   "source": [
    "_ = plot_cost_cm(predictions, ['neg', 'pos', 'mixed'],\n",
    "                 cost_matrix, neg_cut=0.8, pos_cut=0.8, mix_cut=0.8)"
   ]
  },
  {
   "cell_type": "markdown",
   "metadata": {},
   "source": [
    "<a id=\"cm\"></a>\n",
    "## Confusion Matrix @ .8 Cutoff\n",
    "\n",
    "A normalized confusion matrix showing predictions for each class after a confidence cutoff of .8. \n",
    "\n",
    "Keep in mind that the classifier performs better than these current predictions (~6% incorrect labels, ~4% of those have been correctly classified)."
   ]
  },
  {
   "cell_type": "code",
   "execution_count": 9,
   "metadata": {},
   "outputs": [
    {
     "name": "stdout",
     "output_type": "stream",
     "text": [
      "Retained Data: 94.99%\n",
      "Macro-F1 Score: 0.8931035382420173\n",
      "Normalized confusion matrix\n"
     ]
    },
    {
     "data": {
      "image/png": "[encoded data removed]",
      "text/plain": [
       "<Figure size 360x360 with 2 Axes>"
      ]
     },
     "metadata": {},
     "output_type": "display_data"
    }
   ],
   "source": [
    "def remove_uncertain_samples(df, cols, neg_cut=0.5,\n",
    "                             pos_cut=0.5, mix_cut=0.5):\n",
    "    \"\"\"\n",
    "    Return normalized confusion matrix with applied thresholds.\n",
    "    \"\"\"\n",
    "    \n",
    "    neg_certain = list(df.index[(df[cols[0]] > neg_cut)])\n",
    "    pos_certain = list(df.index[(df[cols[1]] > pos_cut)])\n",
    "    mix_certain = list(df.index[df[cols[2]] > mix_cut])\n",
    "    incl_total = list(set(neg_certain + pos_certain + mix_certain))\n",
    "    print('Retained Data: {:0.2f}%'.format((len(incl_total)/len(df))*100))\n",
    "    \n",
    "    uncertain = df[~df.index.isin(incl_total)]\n",
    "    certain = df[df.index.isin(incl_total)]\n",
    "\n",
    "    f1_certain = f1_score(certain.label, certain.preds, average='macro')\n",
    "    \n",
    "    print('Macro-F1 Score: {}'.format(f1_certain))\n",
    "    \n",
    "    cm = confusion_matrix(certain.label, certain.preds)\n",
    "    plot_confusion_matrix(cm, ['neg', 'pos', 'mixed'], normalize=True)\n",
    "    \n",
    "remove_uncertain_samples(predictions, ['neg', 'pos', 'mixed'],\n",
    "                         neg_cut=0.8, pos_cut=0.8, mix_cut=0.8)"
   ]
  },
  {
   "cell_type": "markdown",
   "metadata": {},
   "source": [
    "[Return to Index](#index)"
   ]
  }
 ],
 "metadata": {
  "kernelspec": {
   "display_name": "learn-env",
   "language": "python",
   "name": "learn-env"
  },
  "language_info": {
   "codemirror_mode": {
    "name": "ipython",
    "version": 3
   },
   "file_extension": ".py",
   "mimetype": "text/x-python",
   "name": "python",
   "nbconvert_exporter": "python",
   "pygments_lexer": "ipython3",
   "version": "3.6.6"
  }
 },
 "nbformat": 4,
 "nbformat_minor": 2
}
