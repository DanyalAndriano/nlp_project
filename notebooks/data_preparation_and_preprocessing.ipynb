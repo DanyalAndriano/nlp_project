{
 "cells": [
  {
   "cell_type": "markdown",
   "metadata": {},
   "source": [
    "<a id=\"index\"></a>\n",
    "# DATA PREPARTATION & PREPROCESSING\n",
    "\n",
    "---------------------------------------------\n",
    "\n",
    "All preprocessing can be run with `preprocess_data.py`. The script makes use of method chaining in pandas to ensure that processing is carried out in the necessary order (changing this order results in errors). Due to the number of steps, pandas is not ideal; this is a temporary solution that will probably be replaced (potentially with Apache Airflow).  \n",
    "\n",
    "Required: \n",
    "> - The `vocab_20k.txt` and `contractions.txt` files in the same directory (see notebook for details of how these files are used/generated). \n",
    "<br>\n",
    "> - Paths for: 1) a json containing login information for MySQL WorkBench, and 2) the Amazon Comprehend dataset with language detection scores.\n",
    "<br>\n",
    "> - If no output directory is specified, all tables are saved to the default folder `output_data`, which will be created if it doesn't already exist. \n",
    "\n",
    "The script returns the following tables if `%run` with `-i` in the notebook: `reviews`, `categories`, `locations` and `category_info`. Other saved data - `no_text_df`, `errors_df`, `non_english` can be loaded from the output file. "
   ]
  },
  {
   "cell_type": "code",
   "execution_count": 1,
   "metadata": {
    "scrolled": false
   },
   "outputs": [],
   "source": [
    "%load_ext autoreload\n",
    "%autoreload 2"
   ]
  },
  {
   "cell_type": "code",
   "execution_count": 2,
   "metadata": {
    "scrolled": false
   },
   "outputs": [
    {
     "name": "stdout",
     "output_type": "stream",
     "text": [
      "Length of standard stopwords list: 244\n",
      "Length of extended stopwords list: 955\n",
      "Dataframe loaded from MySQL WorkBench.\n",
      "Length of Dataframe: 1690785\n",
      "Errors removed: 83\n",
      "Length of Corrected Dataframe: 1690702\n",
      "Cleaning and replacing nulls...\n",
      "Average ratings calculated.\n",
      "Separating no text and text reviews...\n",
      "Number of samples with text: 918216\n",
      "Number of text reviews: 918216\n",
      "Number of no text reviews: 772486\n",
      "Preprocessing Text...\n",
      "Number of floats found: 0\n",
      "Number of English reviews: 610615\n",
      "Number of non-English/unprocessed reviews: 307601\n",
      "Removing any additional erroneous samples.\n",
      "Length Dataframe: 610615\n",
      "453 additional non-english or non-alpha numeric samples\n",
      "Final Length: 610162\n",
      "Processing categories...\n",
      "Length of Dataframe: 163217\n",
      "Length of Dataframe after removing errors: 163211\n",
      "Length of Dataframe: 163211\n",
      "Length of Dataframe after removing no text reviews: 162977\n",
      "Cleaning and replacing nulls...\n",
      "Converting Categories...\n",
      "Adding preprocessed text to categories\n",
      "Preprocessing locations...\n",
      "Cleaning and replacing nulls...\n",
      "Preprocessing category info...\n",
      "Closing MySQL database connection.\n",
      "Wall time: 17min 44s\n"
     ]
    }
   ],
   "source": [
    "%%time\n",
    "\n",
    "# method chaining can make debugging difficult\n",
    "# print outs for each step help to identify potential issues.\n",
    "%run -i preprocess_data.py --login G:\\\\aws_processed\\\\info.json \\\n",
    "                           --aws .\\awslanguage_processed_reviews.json"
   ]
  },
  {
   "cell_type": "markdown",
   "metadata": {},
   "source": [
    "**The notebook provides details & exploratory analysis for the preprocessing steps.**\n",
    "\n",
    "--------------------------------------------------------\n",
    "**[1. Load Data & Libraries](#load_data)**\n",
    "<br>\n",
    "**[2. Preprocessing](#preprocessing)**\n",
    "<br> &nbsp;&nbsp;&nbsp; - [Erroneous/Inconsistent Data](#errors)\n",
    "<br> &nbsp;&nbsp;&nbsp; - [Clean & Sort Data](#clean)\n",
    "<br> &nbsp;&nbsp;&nbsp;&nbsp;&nbsp;&nbsp;&nbsp; - [Combine Headings & Comments](#combine)\n",
    "<br>\n",
    "**[3. Categories Preprocessing](#categories)**\n",
    "<br> &nbsp;&nbsp;&nbsp; - [Clean Categories](#clean_cats)\n",
    "<br> &nbsp;&nbsp;&nbsp; - [Count Positive/ Negative Categories](#count)\n",
    "<br> &nbsp;&nbsp;&nbsp; - [Create Sentiment Label](#label)\n",
    "<br>\n",
    "**[4. Location Preprocessing](#location)**\n",
    "<br>\n",
    "**[5. Add AWS Comprehend Language and Sentiment](#aws)**\n",
    "<br> &nbsp;&nbsp;&nbsp; - [Create Labeled English Dataset](#labeled_eng)\n",
    "<br> &nbsp;&nbsp;&nbsp; - [Create English Corpus](#eng_corpus)\n",
    "<br>\n",
    "**[6. Text Preprocessing](#preprocess)**\n",
    "<br> &nbsp;&nbsp;&nbsp; - [Create Stopwords Lists](#stopwords)\n",
    "<br> &nbsp;&nbsp;&nbsp; - [Custom Tokenizers](#tokens)\n",
    "<br> &nbsp;&nbsp;&nbsp; - [Analyze Review Vocabulary](#vocab)\n",
    "<br> &nbsp;&nbsp;&nbsp; - [Split Hashtags](#hashtag)\n",
    "<br> &nbsp;&nbsp;&nbsp; - [Add Preprocessed Text to Datasets](#lem)\n",
    "<br>\n",
    "**[7. Text Features](#features)**\n",
    "<br> &nbsp;&nbsp;&nbsp; - [Remove Further Errors](#more_errors)\n",
    "<br>\n",
    "**[8. Bigrams & Trigrams](#bi_tri)**"
   ]
  },
  {
   "cell_type": "markdown",
   "metadata": {},
   "source": [
    "<a id=\"load_data\"></a>\n",
    "# Load Data & Libraries\n",
    "\n",
    "The data consisted of 140 related databases in MySQL Workbench (restored from an S3 bucket in AWS). All potentially relevant columns were queried and read into pandas dataframes. \n",
    "\n",
    "Four tables were created: \n",
    "\n",
    "**Reviews**: review text and associated information (such as store, platform, user rating).\n",
    "\n",
    "**Categories**: human rated categories and corresponding positive/ negative sentiment.\n",
    "\n",
    "**Locations**: location information for each restaurant.\n",
    "\n",
    "**Category Info**: additional information about categories (e.g., label, subcategory). "
   ]
  },
  {
   "cell_type": "code",
   "execution_count": 1,
   "metadata": {
    "code_folding": [],
    "scrolled": false
   },
   "outputs": [],
   "source": [
    "# Load libraries and configure notebook settings\n",
    "%matplotlib inline\n",
    "from libraries import *\n",
    "\n",
    "pd.set_option('display.max_colwidth', -1)\n",
    "np.random.seed(0)\n",
    "\n",
    "import warnings\n",
    "warnings.filterwarnings('ignore')"
   ]
  },
  {
   "cell_type": "code",
   "execution_count": 2,
   "metadata": {
    "scrolled": true
   },
   "outputs": [
    {
     "data": {
      "text/html": [
       "<div>\n",
       "<style scoped>\n",
       "    .dataframe tbody tr th:only-of-type {\n",
       "        vertical-align: middle;\n",
       "    }\n",
       "\n",
       "    .dataframe tbody tr th {\n",
       "        vertical-align: top;\n",
       "    }\n",
       "\n",
       "    .dataframe thead th {\n",
       "        text-align: right;\n",
       "    }\n",
       "</style>\n",
       "<table border=\"1\" class=\"dataframe\">\n",
       "  <thead>\n",
       "    <tr style=\"text-align: right;\">\n",
       "      <th></th>\n",
       "      <th>review_id</th>\n",
       "      <th>review_heading</th>\n",
       "      <th>review_comment</th>\n",
       "      <th>brand_id</th>\n",
       "      <th>store_id</th>\n",
       "      <th>date</th>\n",
       "      <th>rating_composite</th>\n",
       "      <th>platform_id</th>\n",
       "      <th>platform_name</th>\n",
       "      <th>rating_1</th>\n",
       "      <th>rating_2</th>\n",
       "      <th>rating_3</th>\n",
       "      <th>rating_4</th>\n",
       "      <th>rating_5</th>\n",
       "    </tr>\n",
       "  </thead>\n",
       "  <tbody>\n",
       "    <tr>\n",
       "      <th>0</th>\n",
       "      <td>1</td>\n",
       "      <td>Slow service</td>\n",
       "      <td>The food was great but it took a long time to arrive and the floor was quite dirty.</td>\n",
       "      <td>1</td>\n",
       "      <td>2</td>\n",
       "      <td>2015-04-22 09:43:44</td>\n",
       "      <td>2.0</td>\n",
       "      <td>6</td>\n",
       "      <td>GoReview</td>\n",
       "      <td>3.0</td>\n",
       "      <td>2.0</td>\n",
       "      <td>4.0</td>\n",
       "      <td>NaN</td>\n",
       "      <td>NaN</td>\n",
       "    </tr>\n",
       "    <tr>\n",
       "      <th>1</th>\n",
       "      <td>2</td>\n",
       "      <td>great service</td>\n",
       "      <td>more about the experience</td>\n",
       "      <td>3</td>\n",
       "      <td>5</td>\n",
       "      <td>2015-04-22 19:41:54</td>\n",
       "      <td>5.0</td>\n",
       "      <td>6</td>\n",
       "      <td>GoReview</td>\n",
       "      <td>4.0</td>\n",
       "      <td>4.0</td>\n",
       "      <td>3.0</td>\n",
       "      <td>5.0</td>\n",
       "      <td>5.0</td>\n",
       "    </tr>\n",
       "    <tr>\n",
       "      <th>2</th>\n",
       "      <td>12</td>\n",
       "      <td>Worst service ever</td>\n",
       "      <td>The service was not good at all, but the cleanliness was average.</td>\n",
       "      <td>1</td>\n",
       "      <td>1</td>\n",
       "      <td>2015-04-27 14:11:14</td>\n",
       "      <td>1.0</td>\n",
       "      <td>6</td>\n",
       "      <td>GoReview</td>\n",
       "      <td>3.0</td>\n",
       "      <td>2.0</td>\n",
       "      <td>4.0</td>\n",
       "      <td>NaN</td>\n",
       "      <td>NaN</td>\n",
       "    </tr>\n",
       "    <tr>\n",
       "      <th>3</th>\n",
       "      <td>50</td>\n",
       "      <td></td>\n",
       "      <td>Test comments</td>\n",
       "      <td>3</td>\n",
       "      <td>6</td>\n",
       "      <td>2015-05-04 08:55:42</td>\n",
       "      <td>2.0</td>\n",
       "      <td>6</td>\n",
       "      <td>GoReview</td>\n",
       "      <td>5.0</td>\n",
       "      <td>3.0</td>\n",
       "      <td>2.0</td>\n",
       "      <td>4.0</td>\n",
       "      <td>3.0</td>\n",
       "    </tr>\n",
       "    <tr>\n",
       "      <th>4</th>\n",
       "      <td>106</td>\n",
       "      <td></td>\n",
       "      <td>Cooment</td>\n",
       "      <td>6</td>\n",
       "      <td>9</td>\n",
       "      <td>2015-06-18 13:55:00</td>\n",
       "      <td>2.0</td>\n",
       "      <td>6</td>\n",
       "      <td>GoReview</td>\n",
       "      <td>2.0</td>\n",
       "      <td>3.0</td>\n",
       "      <td>2.0</td>\n",
       "      <td>3.0</td>\n",
       "      <td>NaN</td>\n",
       "    </tr>\n",
       "  </tbody>\n",
       "</table>\n",
       "</div>"
      ],
      "text/plain": [
       "   review_id      review_heading  \\\n",
       "0  1          Slow service         \n",
       "1  2          great service        \n",
       "2  12         Worst service ever   \n",
       "3  50                              \n",
       "4  106                             \n",
       "\n",
       "                                                                        review_comment  \\\n",
       "0  The food was great but it took a long time to arrive and the floor was quite dirty.   \n",
       "1  more about the experience                                                             \n",
       "2  The service was not good at all, but the cleanliness was average.                     \n",
       "3  Test comments                                                                         \n",
       "4  Cooment                                                                               \n",
       "\n",
       "   brand_id  store_id                date  rating_composite  platform_id  \\\n",
       "0  1         2        2015-04-22 09:43:44  2.0               6             \n",
       "1  3         5        2015-04-22 19:41:54  5.0               6             \n",
       "2  1         1        2015-04-27 14:11:14  1.0               6             \n",
       "3  3         6        2015-05-04 08:55:42  2.0               6             \n",
       "4  6         9        2015-06-18 13:55:00  2.0               6             \n",
       "\n",
       "  platform_name  rating_1  rating_2  rating_3  rating_4  rating_5  \n",
       "0  GoReview      3.0       2.0       4.0      NaN       NaN        \n",
       "1  GoReview      4.0       4.0       3.0       5.0       5.0       \n",
       "2  GoReview      3.0       2.0       4.0      NaN       NaN        \n",
       "3  GoReview      5.0       3.0       2.0       4.0       3.0       \n",
       "4  GoReview      2.0       3.0       2.0       3.0      NaN        "
      ]
     },
     "execution_count": 2,
     "metadata": {},
     "output_type": "execute_result"
    }
   ],
   "source": [
    "# Query MySQL WorkBench and create relevant dataframes \n",
    "with open('G:\\\\aws_processed\\\\info.json', 'r') as f:\n",
    "    d = json.load(f)\n",
    "    database = d['database']\n",
    "    password = d['password']\n",
    "\n",
    "def load_data(password=None, database=None):\n",
    "    connection = mysql.connector.connect(database=database,\n",
    "                                         password=password,\n",
    "                                         host='localhost',\n",
    "                                         user='root')\n",
    "\n",
    "    reviews = pd.read_sql(\"\"\"\n",
    "    SELECT IFNULL(r.id, 0) AS review_id,\n",
    "        IFNULL(r.review_comment_heading, \"\") AS review_heading,\n",
    "        IFNULL(r.review_comment, \"\") AS review_comment,\n",
    "        r.brand_id as brand_id,\n",
    "        r.store_id as store_id,\n",
    "        r.date_reviewed as date,\n",
    "        r.rating_composite AS rating_composite,\n",
    "        r.platform_id AS platform_id,\n",
    "        IFNULL(p.name, \"\") AS platform_name,\n",
    "        r.rating_1, r.rating_2, r.rating_3, r.rating_4, r.rating_5\n",
    "\n",
    "    FROM review r JOIN platform p ON r.platform_id = p.id\n",
    "    LEFT JOIN brand b ON r.brand_id = b.id\n",
    "\n",
    "    ORDER BY review_id;\n",
    "    \"\"\", con=connection, parse_dates={'date': {'format': '%Y-%m-%d %H:%M:%S'}})\n",
    "\n",
    "    categories = pd.read_sql(\"\"\"\n",
    "    SELECT rhrc.review_id,\n",
    "        GROUP_CONCAT(CASE WHEN rhrc.is_positive = 1 THEN rhrc.review_category_id END separator ', ')\n",
    "            as category_pos,\n",
    "        GROUP_CONCAT(CASE WHEN rhrc.is_positive = 1 THEN rc.name END separator ', ')\n",
    "            as category_pos_names,\n",
    "        GROUP_CONCAT(CASE WHEN rhrc.is_positive = 0 THEN rhrc.review_category_id END separator ', ')\n",
    "            as category_neg,\n",
    "        GROUP_CONCAT(CASE WHEN rhrc.is_positive = 0 THEN rc.name END separator ', ')\n",
    "            as category_neg_names\n",
    "\n",
    "    FROM review_has_review_category rhrc\n",
    "    LEFT JOIN review_category rc\n",
    "    ON rhrc.review_category_id = rc.id\n",
    "    GROUP BY review_id;\n",
    "    \"\"\", con=connection)\n",
    "\n",
    "    location = pd.read_sql(\"\"\"\n",
    "    SELECT longitude, latitude, country, city, brand_id,\n",
    "           store_id, address_line_1, address_line_2\n",
    "    FROM address\n",
    "    WHERE longitude\n",
    "    IS NOT NULL\n",
    "    GROUP BY store_id;\n",
    "    \"\"\", con=connection)\n",
    "\n",
    "    category_info = pd.read_sql(\"\"\"\n",
    "    SELECT *\n",
    "    FROM review_category;\n",
    "    \"\"\", con=connection)\n",
    "\n",
    "    connection.close()\n",
    "    return reviews, categories, location, category_info\n",
    "\n",
    "reviews, categories, locations, category_info = load_data(database=database,\n",
    "                                                password=password)\n",
    "\n",
    "reviews.head()"
   ]
  },
  {
   "cell_type": "code",
   "execution_count": 3,
   "metadata": {
    "scrolled": true
   },
   "outputs": [
    {
     "name": "stdout",
     "output_type": "stream",
     "text": [
      "<class 'pandas.core.frame.DataFrame'>\n",
      "RangeIndex: 1690785 entries, 0 to 1690784\n",
      "Data columns (total 14 columns):\n",
      "review_id           int64\n",
      "review_heading      object\n",
      "review_comment      object\n",
      "brand_id            int64\n",
      "store_id            int64\n",
      "date                datetime64[ns]\n",
      "rating_composite    float64\n",
      "platform_id         int64\n",
      "platform_name       object\n",
      "rating_1            float64\n",
      "rating_2            float64\n",
      "rating_3            float64\n",
      "rating_4            float64\n",
      "rating_5            float64\n",
      "dtypes: datetime64[ns](1), float64(6), int64(4), object(3)\n",
      "memory usage: 180.6+ MB\n"
     ]
    }
   ],
   "source": [
    "reviews.info()\n",
    "reviews.to_json('reviews_unprocessed.json', orient='columns')"
   ]
  },
  {
   "cell_type": "code",
   "execution_count": 4,
   "metadata": {},
   "outputs": [
    {
     "name": "stdout",
     "output_type": "stream",
     "text": [
      "<class 'pandas.core.frame.DataFrame'>\n",
      "RangeIndex: 163217 entries, 0 to 163216\n",
      "Data columns (total 5 columns):\n",
      "review_id             163217 non-null int64\n",
      "category_pos          135980 non-null object\n",
      "category_pos_names    135980 non-null object\n",
      "category_neg          36933 non-null object\n",
      "category_neg_names    36933 non-null object\n",
      "dtypes: int64(1), object(4)\n",
      "memory usage: 6.2+ MB\n"
     ]
    }
   ],
   "source": [
    "categories.info()"
   ]
  },
  {
   "cell_type": "code",
   "execution_count": 5,
   "metadata": {},
   "outputs": [
    {
     "name": "stdout",
     "output_type": "stream",
     "text": [
      "<class 'pandas.core.frame.DataFrame'>\n",
      "RangeIndex: 5390 entries, 0 to 5389\n",
      "Data columns (total 8 columns):\n",
      "longitude         5390 non-null object\n",
      "latitude          5390 non-null object\n",
      "country           5352 non-null object\n",
      "city              5345 non-null object\n",
      "brand_id          5390 non-null int64\n",
      "store_id          5390 non-null int64\n",
      "address_line_1    5335 non-null object\n",
      "address_line_2    1233 non-null object\n",
      "dtypes: int64(2), object(6)\n",
      "memory usage: 337.0+ KB\n"
     ]
    }
   ],
   "source": [
    "locations.info()"
   ]
  },
  {
   "cell_type": "code",
   "execution_count": 6,
   "metadata": {},
   "outputs": [
    {
     "name": "stdout",
     "output_type": "stream",
     "text": [
      "<class 'pandas.core.frame.DataFrame'>\n",
      "RangeIndex: 11426 entries, 0 to 11425\n",
      "Data columns (total 11 columns):\n",
      "id                           11426 non-null int64\n",
      "brand_id                     11426 non-null int64\n",
      "parent_review_category_id    9680 non-null float64\n",
      "user_created                 11183 non-null float64\n",
      "is_positive                  11426 non-null int64\n",
      "is_sub_category              11426 non-null int64\n",
      "name                         11424 non-null object\n",
      "description                  0 non-null object\n",
      "date_created                 11426 non-null datetime64[ns]\n",
      "user_updated                 0 non-null object\n",
      "date_updated                 0 non-null object\n",
      "dtypes: datetime64[ns](1), float64(2), int64(4), object(4)\n",
      "memory usage: 982.0+ KB\n"
     ]
    }
   ],
   "source": [
    "# Category info was saved for later use \n",
    "category_info.info()\n",
    "#category_info.to_json('category_info.json', orient='columns')"
   ]
  },
  {
   "cell_type": "markdown",
   "metadata": {},
   "source": [
    "<a id=\"preprocessing\"></a>\n",
    "# Preprocessing\n",
    "[Return to Index](#index)\n",
    "<a id=\"errors\"></a>\n",
    "## Erroneous/ Inconsistent Data\n",
    "\n",
    "Only the reviews table may have erronsous data; for the other tables erroneous data was excluded within the MySQL database query. "
   ]
  },
  {
   "cell_type": "code",
   "execution_count": 7,
   "metadata": {},
   "outputs": [
    {
     "name": "stdout",
     "output_type": "stream",
     "text": [
      "Number of rows with errors: 83\n"
     ]
    },
    {
     "data": {
      "text/html": [
       "<div>\n",
       "<style scoped>\n",
       "    .dataframe tbody tr th:only-of-type {\n",
       "        vertical-align: middle;\n",
       "    }\n",
       "\n",
       "    .dataframe tbody tr th {\n",
       "        vertical-align: top;\n",
       "    }\n",
       "\n",
       "    .dataframe thead th {\n",
       "        text-align: right;\n",
       "    }\n",
       "</style>\n",
       "<table border=\"1\" class=\"dataframe\">\n",
       "  <thead>\n",
       "    <tr style=\"text-align: right;\">\n",
       "      <th></th>\n",
       "      <th>review_id</th>\n",
       "      <th>review_heading</th>\n",
       "      <th>review_comment</th>\n",
       "      <th>brand_id</th>\n",
       "      <th>store_id</th>\n",
       "      <th>date</th>\n",
       "      <th>rating_composite</th>\n",
       "      <th>platform_id</th>\n",
       "      <th>platform_name</th>\n",
       "      <th>rating_1</th>\n",
       "      <th>rating_2</th>\n",
       "      <th>rating_3</th>\n",
       "      <th>rating_4</th>\n",
       "      <th>rating_5</th>\n",
       "    </tr>\n",
       "  </thead>\n",
       "  <tbody>\n",
       "    <tr>\n",
       "      <th>8542</th>\n",
       "      <td>13263</td>\n",
       "      <td></td>\n",
       "      <td>This place is one of the greatest burger places in Joburg (I stand to be corrected though). The food here is amazing and coupled with great service you won't be disappointed. The prices are also quite reasonable if you'd like to catch a lunch date or whatever the occasion</td>\n",
       "      <td>6</td>\n",
       "      <td>428</td>\n",
       "      <td>2016-03-04 00:00:00</td>\n",
       "      <td>9.9</td>\n",
       "      <td>4</td>\n",
       "      <td>Zomato</td>\n",
       "      <td>1.0</td>\n",
       "      <td>1.0</td>\n",
       "      <td>1.0</td>\n",
       "      <td>1.0</td>\n",
       "      <td>NaN</td>\n",
       "    </tr>\n",
       "    <tr>\n",
       "      <th>9295</th>\n",
       "      <td>14223</td>\n",
       "      <td></td>\n",
       "      <td>Thoroughly enjoyed the food, the service and the vibe. It took about 10 - 15 mins for the food to arrive with a full restaurant.\\r\\n\\r\\nThe burgers were phenomenal and the portions of chips were pretty huge.\\r\\n</td>\n",
       "      <td>6</td>\n",
       "      <td>508</td>\n",
       "      <td>2016-03-29 00:00:00</td>\n",
       "      <td>9.9</td>\n",
       "      <td>4</td>\n",
       "      <td>Zomato</td>\n",
       "      <td>1.0</td>\n",
       "      <td>1.0</td>\n",
       "      <td>1.0</td>\n",
       "      <td>1.0</td>\n",
       "      <td>NaN</td>\n",
       "    </tr>\n",
       "    <tr>\n",
       "      <th>30284</th>\n",
       "      <td>42506</td>\n",
       "      <td></td>\n",
       "      <td></td>\n",
       "      <td>3</td>\n",
       "      <td>5</td>\n",
       "      <td>2015-04-23 20:27:11</td>\n",
       "      <td>NaN</td>\n",
       "      <td>6</td>\n",
       "      <td>GoReview</td>\n",
       "      <td>NaN</td>\n",
       "      <td>NaN</td>\n",
       "      <td>NaN</td>\n",
       "      <td>NaN</td>\n",
       "      <td>NaN</td>\n",
       "    </tr>\n",
       "    <tr>\n",
       "      <th>30285</th>\n",
       "      <td>42512</td>\n",
       "      <td></td>\n",
       "      <td></td>\n",
       "      <td>1</td>\n",
       "      <td>1</td>\n",
       "      <td>2015-04-28 01:43:20</td>\n",
       "      <td>NaN</td>\n",
       "      <td>6</td>\n",
       "      <td>GoReview</td>\n",
       "      <td>NaN</td>\n",
       "      <td>NaN</td>\n",
       "      <td>NaN</td>\n",
       "      <td>NaN</td>\n",
       "      <td>NaN</td>\n",
       "    </tr>\n",
       "    <tr>\n",
       "      <th>30286</th>\n",
       "      <td>42513</td>\n",
       "      <td></td>\n",
       "      <td></td>\n",
       "      <td>3</td>\n",
       "      <td>5</td>\n",
       "      <td>2015-04-29 15:15:01</td>\n",
       "      <td>NaN</td>\n",
       "      <td>6</td>\n",
       "      <td>GoReview</td>\n",
       "      <td>NaN</td>\n",
       "      <td>NaN</td>\n",
       "      <td>NaN</td>\n",
       "      <td>NaN</td>\n",
       "      <td>NaN</td>\n",
       "    </tr>\n",
       "  </tbody>\n",
       "</table>\n",
       "</div>"
      ],
      "text/plain": [
       "       review_id review_heading  \\\n",
       "8542   13263                      \n",
       "9295   14223                      \n",
       "30284  42506                      \n",
       "30285  42512                      \n",
       "30286  42513                      \n",
       "\n",
       "                                                                                                                                                                                                                                                                         review_comment  \\\n",
       "8542   This place is one of the greatest burger places in Joburg (I stand to be corrected though). The food here is amazing and coupled with great service you won't be disappointed. The prices are also quite reasonable if you'd like to catch a lunch date or whatever the occasion   \n",
       "9295   Thoroughly enjoyed the food, the service and the vibe. It took about 10 - 15 mins for the food to arrive with a full restaurant.\\r\\n\\r\\nThe burgers were phenomenal and the portions of chips were pretty huge.\\r\\n                                                                \n",
       "30284                                                                                                                                                                                                                                                                                     \n",
       "30285                                                                                                                                                                                                                                                                                     \n",
       "30286                                                                                                                                                                                                                                                                                     \n",
       "\n",
       "       brand_id  store_id                date  rating_composite  platform_id  \\\n",
       "8542   6         428      2016-03-04 00:00:00  9.9               4             \n",
       "9295   6         508      2016-03-29 00:00:00  9.9               4             \n",
       "30284  3         5        2015-04-23 20:27:11 NaN                6             \n",
       "30285  1         1        2015-04-28 01:43:20 NaN                6             \n",
       "30286  3         5        2015-04-29 15:15:01 NaN                6             \n",
       "\n",
       "      platform_name  rating_1  rating_2  rating_3  rating_4  rating_5  \n",
       "8542   Zomato        1.0       1.0       1.0       1.0      NaN        \n",
       "9295   Zomato        1.0       1.0       1.0       1.0      NaN        \n",
       "30284  GoReview     NaN       NaN       NaN       NaN       NaN        \n",
       "30285  GoReview     NaN       NaN       NaN       NaN       NaN        \n",
       "30286  GoReview     NaN       NaN       NaN       NaN       NaN        "
      ]
     },
     "execution_count": 7,
     "metadata": {},
     "output_type": "execute_result"
    }
   ],
   "source": [
    "def find_review_errors(df):\n",
    "    \"\"\"\n",
    "    List unique identity key for missing and duplicate reviews, \n",
    "    as well as out of range ratings.\n",
    "\n",
    "    params:\n",
    "    df: Dataframe containing review information queried from MySQL WB.\n",
    "    \"\"\"\n",
    "    ratings = ['rating_1', 'rating_2', 'rating_3',\n",
    "                   'rating_4', 'rating_5', 'rating_composite']\n",
    "    errors_ids = []\n",
    "\n",
    "    missing = df.review_id[df[ratings].isnull().all(1)]\n",
    "    out_of_range = df.review_id[((df[ratings] > 5) | (df[ratings] < 0)).any(1)]\n",
    "    duplicates = df.review_id[df['review_id'].duplicated()]\n",
    "    errors_ids += list(missing) + list(out_of_range) + list(duplicates)\n",
    "    return list(set(errors_ids))\n",
    "\n",
    "def preprocess_errors(df):\n",
    "    \"\"\"Return dataframe with errors. Remove errors from review dataset.\"\"\"\n",
    "    error_ids = find_review_errors(df)\n",
    "    error_df = df[df.review_id.isin(error_ids)]\n",
    "    no_error_df = df[~df.review_id.isin(error_ids)]\n",
    "    try:\n",
    "        assert len(df) - len(no_error_df) == len(error_df)\n",
    "    except:\n",
    "            print('WARNING: Errors not removed')\n",
    "    return no_error_df, error_df\n",
    "\n",
    "def remove_errors(df, error_df):\n",
    "    \"\"\"Remove duplicate reviews, or reviews with missing/inaccurate \n",
    "    ratintgs.\"\"\"\n",
    "    error_review_id = list(error_df.review_id)\n",
    "    no_error_df = df[~df.review_id.isin(error_review_id)]\n",
    "    return no_error_df\n",
    "\n",
    "# 83 reviews were removed for containing erroneous\n",
    "# ratings, missing review ids, or duplicate ids\n",
    "reviews, error_df = preprocess_errors(reviews)\n",
    "print('Number of rows with errors: {}'.format(len(error_df)))\n",
    "\n",
    "error_df.head()"
   ]
  },
  {
   "cell_type": "markdown",
   "metadata": {},
   "source": [
    "<a id=\"clean\"></a>\n",
    "## Clean and Sort\n",
    "\n",
    "Pandas ```read_sql``` does not convert MySQL missing values into a compatible format. Missing text was converted directly into empty strings from MySQL. The remaining missing values were all converted to ```np.nan``` values for further processing.  "
   ]
  },
  {
   "cell_type": "code",
   "execution_count": 8,
   "metadata": {},
   "outputs": [],
   "source": [
    "def find_floats(df, text_cols):\n",
    "    \"\"\"List all floats in text/object datatype columns.\"\"\"\n",
    "    floats = []\n",
    "    for i in df.index:\n",
    "        for col in text_cols:\n",
    "            if isinstance(df[col][i], float):\n",
    "                floats.append(i)\n",
    "    return floats\n",
    "\n",
    "def remove_line_endings(df, verbose=False):\n",
    "    \"\"\"Remove line endings. If verbose, all columns with and without line \n",
    "    endings will be printed.\"\"\"\n",
    "    \n",
    "    line_endings = ['\\r\\n', '\\r', '\\n\\n', '\\r\\r', '\\n', '\\t', '\\t\\t']\n",
    "    \n",
    "    df = df.replace(line_endings,' ', regex=True).copy()\n",
    "    \n",
    "    for col in df.columns:\n",
    "        if df[col].dtype == 'object':\n",
    "            for line_ending in line_endings:\n",
    "                total_line_endings = df[col].str.contains(line_ending, regex=True).sum()\n",
    "                try: \n",
    "                    assert total_line_endings == 0\n",
    "                    if verbose:\n",
    "                        print('No line endings in {}'.format(col))\n",
    "                except:\n",
    "                    print('The following columns have line endings {}'.format(col))   \n",
    "    return df\n",
    "                    \n",
    "\n",
    "def clean_and_replace_nulls(df, verbose=False):\n",
    "    \"\"\" Replace all nulls and empty strings with np.nan \n",
    "    (standard numpy null value).\"\"\"\n",
    "    \n",
    "    df = remove_line_endings(df)\n",
    "    list_missing = ['NaN', 'nan', 'None', [None], 'NULL', '', ' ']\n",
    "    df = df.replace(list_missing, np.nan).copy()\n",
    "    return df\n",
    "\n",
    "def average_ratings(df):\n",
    "    \"\"\" Return dataframe with average rating for reviews with subratings\n",
    "    (and no composite rating). \n",
    "        \n",
    "    If only the composite exists, fill the new ratings column with \n",
    "    the previous composite value. \"\"\"\n",
    "    \n",
    "    ratings = ['rating_1', 'rating_2', 'rating_3',\n",
    "               'rating_4', 'rating_5', 'rating_composite']\n",
    "    \n",
    "    df['rating'] = df[['rating_1', 'rating_2', 'rating_3',\n",
    "                       'rating_4', 'rating_5']].mean(axis=1)\n",
    "\n",
    "    df['rating'] = df['rating'].fillna(df['rating_composite'])\n",
    "    df['rating'] = df['rating'].apply(lambda x: round(x, 0))\n",
    "    \n",
    "    df = df.drop(ratings, axis=1).copy()\n",
    "    try:\n",
    "        assert len(df.index[(df['rating'] > 5)]) == 0\n",
    "        assert len(df.index[(df['rating'] < 0)]) == 0\n",
    "        assert len(df.index[(df['rating'].isnull())]) == 0\n",
    "    except Exception as e: print(e)\n",
    "    return df\n",
    "    \n",
    "\n",
    "def separate_reviews(df):\n",
    "    \"\"\"Return two datasets, one with text reviews (in either the heading \n",
    "    or comment) and one where there was no meaningful text (i.e., single \n",
    "    digit or letter).\"\"\"\n",
    "    \n",
    "    # Get review ids for text in headings and comments\n",
    "    heading = set(df.review_id[df['review_heading'].notnull()])\n",
    "    comment = set(df.review_id[df['review_comment'].notnull()])\n",
    "    \n",
    "    # Replace np.nan with empty string to remove floats\n",
    "    df['review_heading'] = df['review_heading'].replace(np.nan, '')\n",
    "    df['review_comment'] = df['review_comment'].replace(np.nan, '')\n",
    "    \n",
    "    # Certain reviews contain a single number and should be \n",
    "    # separated into the no_text reviews dataset\n",
    "    single_value_reviews = []\n",
    "    for i in df.index:\n",
    "        if (len(df.review_heading[i]) + len(df.review_comment[i])) <=1:\n",
    "            single_value_reviews.append(df.review_id[i])\n",
    "    \n",
    "    # Create list of review ids for text and no text datasets\n",
    "    with_text = heading.union(comment)\n",
    "    with_text -= set(single_value_reviews)\n",
    "    without_text = set(df.review_id) - with_text \n",
    "    \n",
    "    # Create separate databases with and without review text\n",
    "    text_df = df[df.review_id.isin(with_text)].copy()\n",
    "    no_text_df = df[df.review_id.isin(without_text)].copy()\n",
    "    \n",
    "    try:\n",
    "        assert len(without_text) + len(with_text) == len(df.index)\n",
    "    except:\n",
    "        print('Length of text and no text datasets incorrect')\n",
    "    \n",
    "    try:\n",
    "        assert len(text_df.loc[(text_df['review_heading'] == '') & (text_df['review_comment'] == '')]) == 0\n",
    "    except:\n",
    "        print('There are no text reviews in the text dataset')\n",
    "    \n",
    "    try:\n",
    "        assert len(no_text_df.loc[(no_text_df['review_heading'] != '') & (no_text_df['review_comment'] != '')]) == 0\n",
    "    except:\n",
    "        print('There are text reviews in the no text dataset')\n",
    "    \n",
    "    try:\n",
    "        assert find_floats(text_df, ['review_heading', 'review_comment']) == []\n",
    "    except:\n",
    "        print('Mixed datatypes were present in the text review dataset')\n",
    "    \n",
    "    return text_df, no_text_df"
   ]
  },
  {
   "cell_type": "code",
   "execution_count": 9,
   "metadata": {
    "scrolled": true
   },
   "outputs": [
    {
     "name": "stdout",
     "output_type": "stream",
     "text": [
      "Wall time: 3min 53s\n"
     ]
    }
   ],
   "source": [
    "%%time\n",
    "reviews = clean_and_replace_nulls(reviews)\n",
    "\n",
    "average_ratings(reviews)\n",
    "\n",
    "text_df, no_text_df = separate_reviews(reviews)"
   ]
  },
  {
   "cell_type": "code",
   "execution_count": 10,
   "metadata": {},
   "outputs": [
    {
     "data": {
      "text/plain": [
       "count    918216.000000\n",
       "mean     4.343118     \n",
       "std      1.094375     \n",
       "min      0.000000     \n",
       "25%      4.000000     \n",
       "50%      5.000000     \n",
       "75%      5.000000     \n",
       "max      5.000000     \n",
       "Name: rating, dtype: float64"
      ]
     },
     "execution_count": 10,
     "metadata": {},
     "output_type": "execute_result"
    }
   ],
   "source": [
    "text_df.rating.describe()"
   ]
  },
  {
   "cell_type": "code",
   "execution_count": 11,
   "metadata": {
    "scrolled": true
   },
   "outputs": [
    {
     "data": {
      "text/plain": [
       "count    772486.000000\n",
       "mean     4.293293     \n",
       "std      0.987783     \n",
       "min      0.000000     \n",
       "25%      4.000000     \n",
       "50%      5.000000     \n",
       "75%      5.000000     \n",
       "max      5.000000     \n",
       "Name: rating, dtype: float64"
      ]
     },
     "execution_count": 11,
     "metadata": {},
     "output_type": "execute_result"
    }
   ],
   "source": [
    "no_text_df['rating'].describe()"
   ]
  },
  {
   "cell_type": "markdown",
   "metadata": {},
   "source": [
    "<a id=\"combine\"></a>\n",
    "## Combine Review Headings and Comments"
   ]
  },
  {
   "cell_type": "code",
   "execution_count": 12,
   "metadata": {},
   "outputs": [
    {
     "data": {
      "text/html": [
       "<div>\n",
       "<style scoped>\n",
       "    .dataframe tbody tr th:only-of-type {\n",
       "        vertical-align: middle;\n",
       "    }\n",
       "\n",
       "    .dataframe tbody tr th {\n",
       "        vertical-align: top;\n",
       "    }\n",
       "\n",
       "    .dataframe thead th {\n",
       "        text-align: right;\n",
       "    }\n",
       "</style>\n",
       "<table border=\"1\" class=\"dataframe\">\n",
       "  <thead>\n",
       "    <tr style=\"text-align: right;\">\n",
       "      <th></th>\n",
       "      <th>review_id</th>\n",
       "      <th>review_heading</th>\n",
       "      <th>review_comment</th>\n",
       "      <th>brand_id</th>\n",
       "      <th>store_id</th>\n",
       "      <th>date</th>\n",
       "      <th>rating_composite</th>\n",
       "      <th>platform_id</th>\n",
       "      <th>platform_name</th>\n",
       "      <th>rating_1</th>\n",
       "      <th>rating_2</th>\n",
       "      <th>rating_3</th>\n",
       "      <th>rating_4</th>\n",
       "      <th>rating_5</th>\n",
       "      <th>rating</th>\n",
       "      <th>combined</th>\n",
       "    </tr>\n",
       "  </thead>\n",
       "  <tbody>\n",
       "    <tr>\n",
       "      <th>0</th>\n",
       "      <td>1</td>\n",
       "      <td>Slow service</td>\n",
       "      <td>The food was great but it took a long time to arrive and the floor was quite dirty.</td>\n",
       "      <td>1</td>\n",
       "      <td>2</td>\n",
       "      <td>2015-04-22 09:43:44</td>\n",
       "      <td>2.0</td>\n",
       "      <td>6</td>\n",
       "      <td>GoReview</td>\n",
       "      <td>3.0</td>\n",
       "      <td>2.0</td>\n",
       "      <td>4.0</td>\n",
       "      <td>NaN</td>\n",
       "      <td>NaN</td>\n",
       "      <td>3.0</td>\n",
       "      <td>Slow service The food was great but it took a long time to arrive and the floor was quite dirty.</td>\n",
       "    </tr>\n",
       "    <tr>\n",
       "      <th>1</th>\n",
       "      <td>2</td>\n",
       "      <td>great service</td>\n",
       "      <td>more about the experience</td>\n",
       "      <td>3</td>\n",
       "      <td>5</td>\n",
       "      <td>2015-04-22 19:41:54</td>\n",
       "      <td>5.0</td>\n",
       "      <td>6</td>\n",
       "      <td>GoReview</td>\n",
       "      <td>4.0</td>\n",
       "      <td>4.0</td>\n",
       "      <td>3.0</td>\n",
       "      <td>5.0</td>\n",
       "      <td>5.0</td>\n",
       "      <td>4.0</td>\n",
       "      <td>great service more about the experience</td>\n",
       "    </tr>\n",
       "    <tr>\n",
       "      <th>2</th>\n",
       "      <td>12</td>\n",
       "      <td>Worst service ever</td>\n",
       "      <td>The service was not good at all, but the cleanliness was average.</td>\n",
       "      <td>1</td>\n",
       "      <td>1</td>\n",
       "      <td>2015-04-27 14:11:14</td>\n",
       "      <td>1.0</td>\n",
       "      <td>6</td>\n",
       "      <td>GoReview</td>\n",
       "      <td>3.0</td>\n",
       "      <td>2.0</td>\n",
       "      <td>4.0</td>\n",
       "      <td>NaN</td>\n",
       "      <td>NaN</td>\n",
       "      <td>3.0</td>\n",
       "      <td>Worst service ever The service was not good at all, but the cleanliness was average.</td>\n",
       "    </tr>\n",
       "    <tr>\n",
       "      <th>3</th>\n",
       "      <td>50</td>\n",
       "      <td></td>\n",
       "      <td>Test comments</td>\n",
       "      <td>3</td>\n",
       "      <td>6</td>\n",
       "      <td>2015-05-04 08:55:42</td>\n",
       "      <td>2.0</td>\n",
       "      <td>6</td>\n",
       "      <td>GoReview</td>\n",
       "      <td>5.0</td>\n",
       "      <td>3.0</td>\n",
       "      <td>2.0</td>\n",
       "      <td>4.0</td>\n",
       "      <td>3.0</td>\n",
       "      <td>3.0</td>\n",
       "      <td>Test comments</td>\n",
       "    </tr>\n",
       "    <tr>\n",
       "      <th>4</th>\n",
       "      <td>106</td>\n",
       "      <td></td>\n",
       "      <td>Cooment</td>\n",
       "      <td>6</td>\n",
       "      <td>9</td>\n",
       "      <td>2015-06-18 13:55:00</td>\n",
       "      <td>2.0</td>\n",
       "      <td>6</td>\n",
       "      <td>GoReview</td>\n",
       "      <td>2.0</td>\n",
       "      <td>3.0</td>\n",
       "      <td>2.0</td>\n",
       "      <td>3.0</td>\n",
       "      <td>NaN</td>\n",
       "      <td>2.0</td>\n",
       "      <td>Cooment</td>\n",
       "    </tr>\n",
       "  </tbody>\n",
       "</table>\n",
       "</div>"
      ],
      "text/plain": [
       "   review_id      review_heading  \\\n",
       "0  1          Slow service         \n",
       "1  2          great service        \n",
       "2  12         Worst service ever   \n",
       "3  50                              \n",
       "4  106                             \n",
       "\n",
       "                                                                        review_comment  \\\n",
       "0  The food was great but it took a long time to arrive and the floor was quite dirty.   \n",
       "1  more about the experience                                                             \n",
       "2  The service was not good at all, but the cleanliness was average.                     \n",
       "3  Test comments                                                                         \n",
       "4  Cooment                                                                               \n",
       "\n",
       "   brand_id  store_id                date  rating_composite  platform_id  \\\n",
       "0  1         2        2015-04-22 09:43:44  2.0               6             \n",
       "1  3         5        2015-04-22 19:41:54  5.0               6             \n",
       "2  1         1        2015-04-27 14:11:14  1.0               6             \n",
       "3  3         6        2015-05-04 08:55:42  2.0               6             \n",
       "4  6         9        2015-06-18 13:55:00  2.0               6             \n",
       "\n",
       "  platform_name  rating_1  rating_2  rating_3  rating_4  rating_5  rating  \\\n",
       "0  GoReview      3.0       2.0       4.0      NaN       NaN        3.0      \n",
       "1  GoReview      4.0       4.0       3.0       5.0       5.0       4.0      \n",
       "2  GoReview      3.0       2.0       4.0      NaN       NaN        3.0      \n",
       "3  GoReview      5.0       3.0       2.0       4.0       3.0       3.0      \n",
       "4  GoReview      2.0       3.0       2.0       3.0      NaN        2.0      \n",
       "\n",
       "                                                                                           combined  \n",
       "0  Slow service The food was great but it took a long time to arrive and the floor was quite dirty.  \n",
       "1  great service more about the experience                                                           \n",
       "2  Worst service ever The service was not good at all, but the cleanliness was average.              \n",
       "3   Test comments                                                                                    \n",
       "4   Cooment                                                                                          "
      ]
     },
     "execution_count": 12,
     "metadata": {},
     "output_type": "execute_result"
    }
   ],
   "source": [
    "text_df['combined'] = text_df.review_heading + ' ' + text_df.review_comment \n",
    "\n",
    "text_df.head()"
   ]
  },
  {
   "cell_type": "markdown",
   "metadata": {},
   "source": [
    "<a id=\"categories\"></a>\n",
    "# Categories Preprocessing\n",
    "[Return to Index](#index)\n",
    "<a id=\"clean_cats\"></a>\n",
    "## Clean Data"
   ]
  },
  {
   "cell_type": "code",
   "execution_count": 13,
   "metadata": {},
   "outputs": [
    {
     "name": "stdout",
     "output_type": "stream",
     "text": [
      "Length of categories dataset without errors: 163211\n",
      "234 reviews in categories had no text\n"
     ]
    },
    {
     "data": {
      "text/html": [
       "<div>\n",
       "<style scoped>\n",
       "    .dataframe tbody tr th:only-of-type {\n",
       "        vertical-align: middle;\n",
       "    }\n",
       "\n",
       "    .dataframe tbody tr th {\n",
       "        vertical-align: top;\n",
       "    }\n",
       "\n",
       "    .dataframe thead th {\n",
       "        text-align: right;\n",
       "    }\n",
       "</style>\n",
       "<table border=\"1\" class=\"dataframe\">\n",
       "  <thead>\n",
       "    <tr style=\"text-align: right;\">\n",
       "      <th></th>\n",
       "      <th>review_id</th>\n",
       "      <th>category_pos</th>\n",
       "      <th>category_pos_names</th>\n",
       "      <th>category_neg</th>\n",
       "      <th>category_neg_names</th>\n",
       "    </tr>\n",
       "  </thead>\n",
       "  <tbody>\n",
       "    <tr>\n",
       "      <th>0</th>\n",
       "      <td>41645</td>\n",
       "      <td>628, 617, 661, 648, 643</td>\n",
       "      <td>Taste, Food, Sushi, Waitron, Service</td>\n",
       "      <td>653, 649</td>\n",
       "      <td>Waiting Times, Service</td>\n",
       "    </tr>\n",
       "    <tr>\n",
       "      <th>1</th>\n",
       "      <td>52380</td>\n",
       "      <td>343, 313, 321, 1307, 812</td>\n",
       "      <td>Service, Food, Steaks, Poultry, Sides</td>\n",
       "      <td>NaN</td>\n",
       "      <td>NaN</td>\n",
       "    </tr>\n",
       "    <tr>\n",
       "      <th>2</th>\n",
       "      <td>54468</td>\n",
       "      <td>NaN</td>\n",
       "      <td>NaN</td>\n",
       "      <td>344</td>\n",
       "      <td>Service</td>\n",
       "    </tr>\n",
       "    <tr>\n",
       "      <th>3</th>\n",
       "      <td>54721</td>\n",
       "      <td>343, 313, 349, 345</td>\n",
       "      <td>Service, Food, Manager, Waitron</td>\n",
       "      <td>NaN</td>\n",
       "      <td>NaN</td>\n",
       "    </tr>\n",
       "    <tr>\n",
       "      <th>4</th>\n",
       "      <td>55999</td>\n",
       "      <td>681, 679</td>\n",
       "      <td>Burgers, Food</td>\n",
       "      <td>715, 711, 671, 669</td>\n",
       "      <td>Waiting Times, Service, Facilities, Atmosphere</td>\n",
       "    </tr>\n",
       "    <tr>\n",
       "      <th>...</th>\n",
       "      <td>...</td>\n",
       "      <td>...</td>\n",
       "      <td>...</td>\n",
       "      <td>...</td>\n",
       "      <td>...</td>\n",
       "    </tr>\n",
       "    <tr>\n",
       "      <th>163212</th>\n",
       "      <td>1749298</td>\n",
       "      <td>NaN</td>\n",
       "      <td>NaN</td>\n",
       "      <td>12495, 12505</td>\n",
       "      <td>App, Order Ahead Failures</td>\n",
       "    </tr>\n",
       "    <tr>\n",
       "      <th>163213</th>\n",
       "      <td>1749302</td>\n",
       "      <td>NaN</td>\n",
       "      <td>NaN</td>\n",
       "      <td>711</td>\n",
       "      <td>Service</td>\n",
       "    </tr>\n",
       "    <tr>\n",
       "      <th>163214</th>\n",
       "      <td>1749306</td>\n",
       "      <td>705</td>\n",
       "      <td>Service</td>\n",
       "      <td>NaN</td>\n",
       "      <td>NaN</td>\n",
       "    </tr>\n",
       "    <tr>\n",
       "      <th>163215</th>\n",
       "      <td>1749364</td>\n",
       "      <td>NaN</td>\n",
       "      <td>NaN</td>\n",
       "      <td>12495, 12507</td>\n",
       "      <td>App, No loyalty earned on a transaction.</td>\n",
       "    </tr>\n",
       "    <tr>\n",
       "      <th>163216</th>\n",
       "      <td>1749384</td>\n",
       "      <td>NaN</td>\n",
       "      <td>NaN</td>\n",
       "      <td>9141</td>\n",
       "      <td>Store environment</td>\n",
       "    </tr>\n",
       "  </tbody>\n",
       "</table>\n",
       "<p>162983 rows × 5 columns</p>\n",
       "</div>"
      ],
      "text/plain": [
       "        review_id              category_pos  \\\n",
       "0       41645      628, 617, 661, 648, 643    \n",
       "1       52380      343, 313, 321, 1307, 812   \n",
       "2       54468      NaN                        \n",
       "3       54721      343, 313, 349, 345         \n",
       "4       55999      681, 679                   \n",
       "...       ...           ...                   \n",
       "163212  1749298    NaN                        \n",
       "163213  1749302    NaN                        \n",
       "163214  1749306    705                        \n",
       "163215  1749364    NaN                        \n",
       "163216  1749384    NaN                        \n",
       "\n",
       "                           category_pos_names        category_neg  \\\n",
       "0       Taste, Food, Sushi, Waitron, Service   653, 649             \n",
       "1       Service, Food, Steaks, Poultry, Sides  NaN                  \n",
       "2       NaN                                    344                  \n",
       "3       Service, Food, Manager, Waitron        NaN                  \n",
       "4       Burgers, Food                          715, 711, 671, 669   \n",
       "...               ...                                         ...   \n",
       "163212  NaN                                    12495, 12505         \n",
       "163213  NaN                                    711                  \n",
       "163214  Service                                NaN                  \n",
       "163215  NaN                                    12495, 12507         \n",
       "163216  NaN                                    9141                 \n",
       "\n",
       "                                    category_neg_names  \n",
       "0       Waiting Times, Service                          \n",
       "1       NaN                                             \n",
       "2       Service                                         \n",
       "3       NaN                                             \n",
       "4       Waiting Times, Service, Facilities, Atmosphere  \n",
       "...                                                ...  \n",
       "163212  App, Order Ahead Failures                       \n",
       "163213  Service                                         \n",
       "163214  NaN                                             \n",
       "163215  App, No loyalty earned on a transaction.        \n",
       "163216  Store environment                               \n",
       "\n",
       "[162983 rows x 5 columns]"
      ]
     },
     "execution_count": 13,
     "metadata": {},
     "output_type": "execute_result"
    }
   ],
   "source": [
    "categories_no_errors = remove_errors(categories, error_df)\n",
    "\n",
    "# five enteries were removed from categories df\n",
    "print('Length of categories dataset without errors: {}'.format(len(categories_no_errors)))\n",
    "\n",
    "# remove no text reviews from from categories\n",
    "print('{} reviews in categories had no text'.format(categories.review_id.isin(no_text_df.review_id).sum()))\n",
    "\n",
    "categories = categories[~categories.review_id.isin(no_text_df.review_id)].copy()\n",
    "\n",
    "clean_and_replace_nulls(categories)"
   ]
  },
  {
   "cell_type": "markdown",
   "metadata": {},
   "source": [
    "<a id=\"count\"></a>\n",
    "## Count Positive and Negative Category Ratings"
   ]
  },
  {
   "cell_type": "code",
   "execution_count": 14,
   "metadata": {
    "code_folding": [],
    "scrolled": true
   },
   "outputs": [
    {
     "data": {
      "text/html": [
       "<div>\n",
       "<style scoped>\n",
       "    .dataframe tbody tr th:only-of-type {\n",
       "        vertical-align: middle;\n",
       "    }\n",
       "\n",
       "    .dataframe tbody tr th {\n",
       "        vertical-align: top;\n",
       "    }\n",
       "\n",
       "    .dataframe thead th {\n",
       "        text-align: right;\n",
       "    }\n",
       "</style>\n",
       "<table border=\"1\" class=\"dataframe\">\n",
       "  <thead>\n",
       "    <tr style=\"text-align: right;\">\n",
       "      <th></th>\n",
       "      <th>review_id</th>\n",
       "      <th>category_pos</th>\n",
       "      <th>category_pos_names</th>\n",
       "      <th>category_neg</th>\n",
       "      <th>category_neg_names</th>\n",
       "      <th>pos_count</th>\n",
       "      <th>neg_count</th>\n",
       "    </tr>\n",
       "  </thead>\n",
       "  <tbody>\n",
       "    <tr>\n",
       "      <th>0</th>\n",
       "      <td>41645</td>\n",
       "      <td>[628,  617,  661,  648,  643]</td>\n",
       "      <td>Taste, Food, Sushi, Waitron, Service</td>\n",
       "      <td>[653,  649]</td>\n",
       "      <td>Waiting Times, Service</td>\n",
       "      <td>5</td>\n",
       "      <td>2</td>\n",
       "    </tr>\n",
       "    <tr>\n",
       "      <th>1</th>\n",
       "      <td>52380</td>\n",
       "      <td>[343,  313,  321,  1307,  812]</td>\n",
       "      <td>Service, Food, Steaks, Poultry, Sides</td>\n",
       "      <td></td>\n",
       "      <td>None</td>\n",
       "      <td>5</td>\n",
       "      <td>0</td>\n",
       "    </tr>\n",
       "    <tr>\n",
       "      <th>2</th>\n",
       "      <td>54468</td>\n",
       "      <td></td>\n",
       "      <td>None</td>\n",
       "      <td>[344]</td>\n",
       "      <td>Service</td>\n",
       "      <td>0</td>\n",
       "      <td>1</td>\n",
       "    </tr>\n",
       "    <tr>\n",
       "      <th>3</th>\n",
       "      <td>54721</td>\n",
       "      <td>[343,  313,  349,  345]</td>\n",
       "      <td>Service, Food, Manager, Waitron</td>\n",
       "      <td></td>\n",
       "      <td>None</td>\n",
       "      <td>4</td>\n",
       "      <td>0</td>\n",
       "    </tr>\n",
       "    <tr>\n",
       "      <th>4</th>\n",
       "      <td>55999</td>\n",
       "      <td>[681,  679]</td>\n",
       "      <td>Burgers, Food</td>\n",
       "      <td>[715,  711,  671,  669]</td>\n",
       "      <td>Waiting Times, Service, Facilities, Atmosphere</td>\n",
       "      <td>2</td>\n",
       "      <td>4</td>\n",
       "    </tr>\n",
       "  </tbody>\n",
       "</table>\n",
       "</div>"
      ],
      "text/plain": [
       "   review_id                    category_pos  \\\n",
       "0  41645      [628,  617,  661,  648,  643]    \n",
       "1  52380      [343,  313,  321,  1307,  812]   \n",
       "2  54468                                       \n",
       "3  54721      [343,  313,  349,  345]          \n",
       "4  55999      [681,  679]                      \n",
       "\n",
       "                      category_pos_names             category_neg  \\\n",
       "0  Taste, Food, Sushi, Waitron, Service   [653,  649]               \n",
       "1  Service, Food, Steaks, Poultry, Sides                            \n",
       "2  None                                   [344]                     \n",
       "3  Service, Food, Manager, Waitron                                  \n",
       "4  Burgers, Food                          [715,  711,  671,  669]   \n",
       "\n",
       "                               category_neg_names  pos_count  neg_count  \n",
       "0  Waiting Times, Service                          5          2          \n",
       "1  None                                            5          0          \n",
       "2  Service                                         0          1          \n",
       "3  None                                            4          0          \n",
       "4  Waiting Times, Service, Facilities, Atmosphere  2          4          "
      ]
     },
     "execution_count": 14,
     "metadata": {},
     "output_type": "execute_result"
    }
   ],
   "source": [
    "cats = ['category_pos', 'category_neg']\n",
    "new_cols = ['pos_count', 'neg_count']\n",
    "\n",
    "def convert_cols(df, cats, new_cols):\n",
    "    \"\"\" cats: list of category columns to be summed. \n",
    "    new_cols = list of new columns to be added\n",
    "    \n",
    "    Return dataframe with columns that sum up negative\n",
    "    and positive categories for each review.\"\"\"\n",
    "\n",
    "    for cat, new_col in zip(cats, new_cols):\n",
    "        df[cat] = df[cat].replace(np.nan, '')\n",
    "        df[cat] = df[cat].astype(str)\n",
    "        df[cat] = df[cat].apply(lambda x: x.split(',') if x != '' else '')\n",
    "        df[new_col] = df[cat].apply(lambda x: len(x))\n",
    "\n",
    "convert_cols(categories, cats, new_cols)\n",
    "\n",
    "categories.head()"
   ]
  },
  {
   "cell_type": "markdown",
   "metadata": {},
   "source": [
    "<a id=\"label\"></a>\n",
    "## Create Sentiment Label"
   ]
  },
  {
   "cell_type": "code",
   "execution_count": 15,
   "metadata": {
    "code_folding": [
     0
    ],
    "scrolled": true
   },
   "outputs": [
    {
     "data": {
      "text/html": [
       "<div>\n",
       "<style scoped>\n",
       "    .dataframe tbody tr th:only-of-type {\n",
       "        vertical-align: middle;\n",
       "    }\n",
       "\n",
       "    .dataframe tbody tr th {\n",
       "        vertical-align: top;\n",
       "    }\n",
       "\n",
       "    .dataframe thead th {\n",
       "        text-align: right;\n",
       "    }\n",
       "</style>\n",
       "<table border=\"1\" class=\"dataframe\">\n",
       "  <thead>\n",
       "    <tr style=\"text-align: right;\">\n",
       "      <th></th>\n",
       "      <th>review_id</th>\n",
       "      <th>category_pos</th>\n",
       "      <th>category_pos_names</th>\n",
       "      <th>category_neg</th>\n",
       "      <th>category_neg_names</th>\n",
       "      <th>pos_count</th>\n",
       "      <th>neg_count</th>\n",
       "      <th>sentiment</th>\n",
       "      <th>positive</th>\n",
       "      <th>negative</th>\n",
       "    </tr>\n",
       "  </thead>\n",
       "  <tbody>\n",
       "    <tr>\n",
       "      <th>0</th>\n",
       "      <td>41645</td>\n",
       "      <td>[628,  617,  661,  648,  643]</td>\n",
       "      <td>Taste, Food, Sushi, Waitron, Service</td>\n",
       "      <td>[653,  649]</td>\n",
       "      <td>Waiting Times, Service</td>\n",
       "      <td>5</td>\n",
       "      <td>2</td>\n",
       "      <td>2.0</td>\n",
       "      <td>1.0</td>\n",
       "      <td>1.0</td>\n",
       "    </tr>\n",
       "    <tr>\n",
       "      <th>1</th>\n",
       "      <td>52380</td>\n",
       "      <td>[343,  313,  321,  1307,  812]</td>\n",
       "      <td>Service, Food, Steaks, Poultry, Sides</td>\n",
       "      <td></td>\n",
       "      <td>None</td>\n",
       "      <td>5</td>\n",
       "      <td>0</td>\n",
       "      <td>1.0</td>\n",
       "      <td>1.0</td>\n",
       "      <td>0.0</td>\n",
       "    </tr>\n",
       "    <tr>\n",
       "      <th>2</th>\n",
       "      <td>54468</td>\n",
       "      <td></td>\n",
       "      <td>None</td>\n",
       "      <td>[344]</td>\n",
       "      <td>Service</td>\n",
       "      <td>0</td>\n",
       "      <td>1</td>\n",
       "      <td>0.0</td>\n",
       "      <td>0.0</td>\n",
       "      <td>1.0</td>\n",
       "    </tr>\n",
       "    <tr>\n",
       "      <th>3</th>\n",
       "      <td>54721</td>\n",
       "      <td>[343,  313,  349,  345]</td>\n",
       "      <td>Service, Food, Manager, Waitron</td>\n",
       "      <td></td>\n",
       "      <td>None</td>\n",
       "      <td>4</td>\n",
       "      <td>0</td>\n",
       "      <td>1.0</td>\n",
       "      <td>1.0</td>\n",
       "      <td>0.0</td>\n",
       "    </tr>\n",
       "    <tr>\n",
       "      <th>4</th>\n",
       "      <td>55999</td>\n",
       "      <td>[681,  679]</td>\n",
       "      <td>Burgers, Food</td>\n",
       "      <td>[715,  711,  671,  669]</td>\n",
       "      <td>Waiting Times, Service, Facilities, Atmosphere</td>\n",
       "      <td>2</td>\n",
       "      <td>4</td>\n",
       "      <td>2.0</td>\n",
       "      <td>1.0</td>\n",
       "      <td>1.0</td>\n",
       "    </tr>\n",
       "  </tbody>\n",
       "</table>\n",
       "</div>"
      ],
      "text/plain": [
       "   review_id                    category_pos  \\\n",
       "0  41645      [628,  617,  661,  648,  643]    \n",
       "1  52380      [343,  313,  321,  1307,  812]   \n",
       "2  54468                                       \n",
       "3  54721      [343,  313,  349,  345]          \n",
       "4  55999      [681,  679]                      \n",
       "\n",
       "                      category_pos_names             category_neg  \\\n",
       "0  Taste, Food, Sushi, Waitron, Service   [653,  649]               \n",
       "1  Service, Food, Steaks, Poultry, Sides                            \n",
       "2  None                                   [344]                     \n",
       "3  Service, Food, Manager, Waitron                                  \n",
       "4  Burgers, Food                          [715,  711,  671,  669]   \n",
       "\n",
       "                               category_neg_names  pos_count  neg_count  \\\n",
       "0  Waiting Times, Service                          5          2           \n",
       "1  None                                            5          0           \n",
       "2  Service                                         0          1           \n",
       "3  None                                            4          0           \n",
       "4  Waiting Times, Service, Facilities, Atmosphere  2          4           \n",
       "\n",
       "   sentiment  positive  negative  \n",
       "0  2.0        1.0       1.0       \n",
       "1  1.0        1.0       0.0       \n",
       "2  0.0        0.0       1.0       \n",
       "3  1.0        1.0       0.0       \n",
       "4  2.0        1.0       1.0       "
      ]
     },
     "execution_count": 15,
     "metadata": {},
     "output_type": "execute_result"
    }
   ],
   "source": [
    "def get_cat_labels(data):\n",
    "    \"\"\"Return sentiment labels based on sum of negative and positive categories\n",
    "    for each review. \n",
    "    \n",
    "    Sentiment is a multiclass label where: 0 -> negative, 1 -> positive, 2 -> mixed.\n",
    "    (i.e., was a review positive, negative or mixed.)\n",
    "    \n",
    "    Positive and negative label columns were also addded for multilabel analysis \n",
    "    (i.e., was a review positive, negative, or both). \"\"\"\n",
    "    \n",
    "    df = data.copy()\n",
    "    df.loc[(df['pos_count'] > 0) & (df['neg_count'] == 0), 'sentiment'] = 1\n",
    "    df.loc[(df['pos_count'] == 0) & (df['neg_count'] > 0), 'sentiment'] = 0\n",
    "    df.loc[(df['pos_count'] > 0) & (df['neg_count'] > 0), 'sentiment'] = 2\n",
    "    \n",
    "    df.loc[(df['pos_count'] > 0), 'positive'] = 1\n",
    "    df.loc[(df['neg_count'] > 0), 'negative'] = 1\n",
    "    df.loc[(df['pos_count'] == 0), 'positive'] = 0\n",
    "    df.loc[(df['neg_count'] == 0), 'negative'] = 0\n",
    "    return df\n",
    "\n",
    "categories = get_cat_labels(categories)\n",
    "\n",
    "categories.head()"
   ]
  },
  {
   "cell_type": "code",
   "execution_count": 16,
   "metadata": {
    "scrolled": true
   },
   "outputs": [
    {
     "data": {
      "image/png": "[encoded data removed]",
      "text/plain": [
       "<Figure size 432x288 with 1 Axes>"
      ]
     },
     "metadata": {},
     "output_type": "display_data"
    }
   ],
   "source": [
    "categories.sentiment.value_counts().plot(kind='bar')\n",
    "\n",
    "plt.title('Multiclass Sentiment Labels', fontsize=14)\n",
    "plt.xticks(ticks=np.arange(3), labels=['positive', 'negative', 'mixed'], rotation=0,\n",
    "           fontsize=12)\n",
    "plt.xlabel('Review Label', fontsize=12)\n",
    "plt.ylabel('Number of Reviews', fontsize=12);"
   ]
  },
  {
   "cell_type": "markdown",
   "metadata": {},
   "source": [
    "<a id=\"location\"></a>\n",
    "# Location Preprocessing\n",
    "[Return to Index](#index)"
   ]
  },
  {
   "cell_type": "code",
   "execution_count": 17,
   "metadata": {},
   "outputs": [
    {
     "name": "stdout",
     "output_type": "stream",
     "text": [
      "Wall time: 288 ms\n"
     ]
    },
    {
     "data": {
      "text/plain": [
       "longitude         0   \n",
       "latitude          0   \n",
       "country           38  \n",
       "city              45  \n",
       "brand_id          0   \n",
       "store_id          0   \n",
       "address_line_1    55  \n",
       "address_line_2    4166\n",
       "dtype: int64"
      ]
     },
     "execution_count": 17,
     "metadata": {},
     "output_type": "execute_result"
    }
   ],
   "source": [
    "%%time\n",
    "# location data will be used later on to geospatially visualize\n",
    "# sentiment for various restaurant chains and brands\n",
    "locations = clean_and_replace_nulls(locations)\n",
    "\n",
    "locations.isnull().sum()"
   ]
  },
  {
   "cell_type": "markdown",
   "metadata": {},
   "source": [
    "<a id=\"aws\"></a>\n",
    "# Add AWS Comprehend Language and Sentiment\n",
    "[Return to Index](#index)"
   ]
  },
  {
   "cell_type": "code",
   "execution_count": 18,
   "metadata": {
    "scrolled": false
   },
   "outputs": [
    {
     "data": {
      "text/html": [
       "<div>\n",
       "<style scoped>\n",
       "    .dataframe tbody tr th:only-of-type {\n",
       "        vertical-align: middle;\n",
       "    }\n",
       "\n",
       "    .dataframe tbody tr th {\n",
       "        vertical-align: top;\n",
       "    }\n",
       "\n",
       "    .dataframe thead th {\n",
       "        text-align: right;\n",
       "    }\n",
       "</style>\n",
       "<table border=\"1\" class=\"dataframe\">\n",
       "  <thead>\n",
       "    <tr style=\"text-align: right;\">\n",
       "      <th></th>\n",
       "      <th>review_id</th>\n",
       "      <th>aws_lang</th>\n",
       "      <th>aws_lang_score</th>\n",
       "      <th>aws_mix</th>\n",
       "      <th>aws_neg</th>\n",
       "      <th>aws_neu</th>\n",
       "      <th>aws_pos</th>\n",
       "      <th>aws_sent</th>\n",
       "    </tr>\n",
       "  </thead>\n",
       "  <tbody>\n",
       "    <tr>\n",
       "      <th>0</th>\n",
       "      <td>1</td>\n",
       "      <td>en</td>\n",
       "      <td>0.993903</td>\n",
       "      <td>0.763733</td>\n",
       "      <td>0.229482</td>\n",
       "      <td>0.002765</td>\n",
       "      <td>0.004021</td>\n",
       "      <td>MIXED</td>\n",
       "    </tr>\n",
       "    <tr>\n",
       "      <th>1</th>\n",
       "      <td>2</td>\n",
       "      <td>en</td>\n",
       "      <td>0.988039</td>\n",
       "      <td>0.018287</td>\n",
       "      <td>0.008111</td>\n",
       "      <td>0.031472</td>\n",
       "      <td>0.942129</td>\n",
       "      <td>POSITIVE</td>\n",
       "    </tr>\n",
       "    <tr>\n",
       "      <th>2</th>\n",
       "      <td>12</td>\n",
       "      <td>en</td>\n",
       "      <td>0.991282</td>\n",
       "      <td>0.231639</td>\n",
       "      <td>0.767219</td>\n",
       "      <td>0.000849</td>\n",
       "      <td>0.000292</td>\n",
       "      <td>NEGATIVE</td>\n",
       "    </tr>\n",
       "    <tr>\n",
       "      <th>3</th>\n",
       "      <td>50</td>\n",
       "      <td>en</td>\n",
       "      <td>0.949631</td>\n",
       "      <td>0.002727</td>\n",
       "      <td>0.010144</td>\n",
       "      <td>0.950454</td>\n",
       "      <td>0.036675</td>\n",
       "      <td>NEUTRAL</td>\n",
       "    </tr>\n",
       "    <tr>\n",
       "      <th>4</th>\n",
       "      <td>106</td>\n",
       "      <td>en</td>\n",
       "      <td>0.575703</td>\n",
       "      <td>0.004087</td>\n",
       "      <td>0.016755</td>\n",
       "      <td>0.939358</td>\n",
       "      <td>0.039800</td>\n",
       "      <td>NEUTRAL</td>\n",
       "    </tr>\n",
       "  </tbody>\n",
       "</table>\n",
       "</div>"
      ],
      "text/plain": [
       "   review_id aws_lang  aws_lang_score   aws_mix   aws_neg   aws_neu   aws_pos  \\\n",
       "0  1          en       0.993903        0.763733  0.229482  0.002765  0.004021   \n",
       "1  2          en       0.988039        0.018287  0.008111  0.031472  0.942129   \n",
       "2  12         en       0.991282        0.231639  0.767219  0.000849  0.000292   \n",
       "3  50         en       0.949631        0.002727  0.010144  0.950454  0.036675   \n",
       "4  106        en       0.575703        0.004087  0.016755  0.939358  0.039800   \n",
       "\n",
       "   aws_sent  \n",
       "0  MIXED     \n",
       "1  POSITIVE  \n",
       "2  NEGATIVE  \n",
       "3  NEUTRAL   \n",
       "4  NEUTRAL   "
      ]
     },
     "execution_count": 18,
     "metadata": {},
     "output_type": "execute_result"
    }
   ],
   "source": [
    "# A sample of the data were processed by Amazon Comprehend for\n",
    "# sentiment and language detection\n",
    "aws_processed = pd.read_json('aws_processed_new_dataset.json', orient='columns')\n",
    "aws_processed.reset_index(inplace=True, drop=True)\n",
    "\n",
    "aws_processed_cut = aws_processed[['review_id','aws_lang', 'aws_lang_score', 'aws_mix', \n",
    "                                   'aws_neg', 'aws_neu', 'aws_pos','aws_sent']]\n",
    "\n",
    "aws_processed_cut.head()"
   ]
  },
  {
   "cell_type": "code",
   "execution_count": 21,
   "metadata": {},
   "outputs": [
    {
     "name": "stdout",
     "output_type": "stream",
     "text": [
      "Number of labeled reviews without AWS sentiment labels: 2609\n",
      "Number of reviews with en, de, fr, es, it, pt language codes: 160368\n",
      "Number of labeled English reviews: 159043\n"
     ]
    }
   ],
   "source": [
    "# Join to the labeled categories table\n",
    "cat_df = pd.merge(categories, aws_processed_cut, on='review_id', how='left')\n",
    "\n",
    "# while all categories were allocated a langauge score, sentiment was \n",
    "# only carried out for 6 langauges, which is why there were approximately\n",
    "# 2600 sentiment labels missing. \n",
    "\n",
    "print('Number of labeled reviews without AWS sentiment labels: {}'\\\n",
    "      .format(cat_df.aws_lang.notnull().sum() - cat_df.aws_sent.notnull().sum()))\n",
    "\n",
    "# these 6 langauges processed by Comprehend have sentiment scores\n",
    "languages = ['en','de', 'fr', 'es', 'it', 'pt']\n",
    "print('Number of reviews with en, de, fr, es, it, pt language codes: {}'\\\n",
    "      .format(cat_df.aws_lang.str.contains('|'.join(languages)).sum()))\n",
    "\n",
    "print('Number of labeled English reviews: {}'\\\n",
    "      .format((cat_df.aws_lang=='en').sum()))"
   ]
  },
  {
   "cell_type": "markdown",
   "metadata": {},
   "source": [
    "<a id=\"labeled_eng\"></a>\n",
    "## Create Labeled English Dataset"
   ]
  },
  {
   "cell_type": "code",
   "execution_count": 22,
   "metadata": {},
   "outputs": [
    {
     "data": {
      "text/plain": [
       "True"
      ]
     },
     "execution_count": 22,
     "metadata": {},
     "output_type": "execute_result"
    }
   ],
   "source": [
    "# remove non-english reviews from labeled dataset\n",
    "english_cat = cat_df[cat_df.aws_lang== 'en']\n",
    "\n",
    "# create and save non-english categories table  \n",
    "non_english_cat = cat_df[~cat_df.review_id.isin(english_cat.review_id)]\n",
    "\n",
    "# check that all category data is accounted for\n",
    "len(english_cat) + len(non_english_cat) == len(cat_df)"
   ]
  },
  {
   "cell_type": "markdown",
   "metadata": {},
   "source": [
    "<a id=\"eng_corpus\"></a>\n",
    "## Create English Corpus\n",
    "\n",
    "Additional datasets were run through Amazon Comprehend Language Detection API to build a larger english text corpus - necessary to improve word vectors and determine overarching patterns in the review data across brands and platforms. "
   ]
  },
  {
   "cell_type": "code",
   "execution_count": 23,
   "metadata": {},
   "outputs": [
    {
     "name": "stdout",
     "output_type": "stream",
     "text": [
      "Number of English reviews: 610615\n",
      "Number of non-English/unprocessed reviews: 307601\n"
     ]
    }
   ],
   "source": [
    "# load additional aws language processed reviews \n",
    "aws_lang_processed = pd.read_json('awslanguage_processed_reviews.json', orient='columns')\n",
    "\n",
    "# create a cut dataframe with relevant columns to merge\n",
    "aws_cut = aws_lang_processed[['review_id', 'aws_lang']].copy()\n",
    "aws_cut = aws_cut.reset_index(drop=True)\n",
    "text_df = text_df.reset_index(drop=True)\n",
    "\n",
    "# merge with text reviews\n",
    "lang_processed = pd.merge(text_df, aws_cut, on='review_id', how='left')\\\n",
    "                   .reset_index(drop=True)\\\n",
    "                   .sort_values('aws_lang')\\\n",
    "                   .drop_duplicates('review_id', keep='first')\\\n",
    "                   .dropna(subset=['combined'])\n",
    "\n",
    "# select all English reviews\n",
    "english = lang_processed[lang_processed.aws_lang == 'en'].copy()\n",
    "print('Number of English reviews: {}'.format(len(english)))\n",
    "\n",
    "# select all non-English reviews\n",
    "non_english = lang_processed[~lang_processed.index.isin(english.index)].copy()\n",
    "print('Number of non-English/unprocessed reviews: {}'.format(len(non_english)))"
   ]
  },
  {
   "cell_type": "markdown",
   "metadata": {},
   "source": [
    "<a id=\"preprocess\"></a>\n",
    "# Text Preprocessing\n",
    "[Return to Index](#index)\n"
   ]
  },
  {
   "cell_type": "code",
   "execution_count": 110,
   "metadata": {},
   "outputs": [
    {
     "name": "stdout",
     "output_type": "stream",
     "text": [
      "Number of reviews with English label: 611151\n",
      "Number of labeled English reviews in full text dataset: 159043\n",
      "Number of labeled English reviews: 159043\n"
     ]
    }
   ],
   "source": [
    "# Get datasets with AWS language scores - split up for batch processing\n",
    "aws_lang_processed = pd.read_json('awslanguage_processed_reviews.json', orient='columns')\n",
    "lang_processed = pd.concat([aws_lang_processed, text_df], axis=1)\\\n",
    "                   .sort_values('aws_lang')\\\n",
    "                   .drop_duplicates('review_id', keep='first')\n",
    "\n",
    "english = lang_processed.loc[lang_processed.aws_lang == 'en'].copy()\n",
    "print('Number of reviews with English label: {}'.format(len(english)))\n",
    "\n",
    "print('Number of labeled English reviews in full text dataset: {}'\\\n",
    "      .format(english_cat.review_id.isin(english.review_id).sum())) \n",
    "print('Number of labeled English reviews: {}'.format(len(english_cat)))"
   ]
  },
  {
   "cell_type": "markdown",
   "metadata": {},
   "source": [
    "<a id=\"stopwords\"></a>\n",
    "## Create Custom Stopwords Lists"
   ]
  },
  {
   "cell_type": "code",
   "execution_count": 111,
   "metadata": {},
   "outputs": [
    {
     "name": "stdout",
     "output_type": "stream",
     "text": [
      "Length of standard stopwords list: 244\n",
      "Length of extended stopwords list: 955\n"
     ]
    }
   ],
   "source": [
    "# English stopwords from multiple lists\n",
    "with open(\"additional_stopwords.txt\", \"r\") as textfile:\n",
    "    additional_stopwords = textfile.read().split('\\n')\n",
    "\n",
    "stopwords_list = list(string.punctuation)\n",
    "stopwords_list += ['....', '...', '..', '.....', 'im']\n",
    "stopwords_list += stopwords.words('english') # nltk\n",
    "stopwords_list += get_stop_words('en') # stop words\n",
    "stopwords_list = list(set(stopwords_list))\n",
    "stopwords_list = [ w for w in stopwords_list if w not in 'not' ]\n",
    "\n",
    "print('Length of standard stopwords list: {}'.format(len(stopwords_list)))\n",
    "\n",
    "extended_stopwords_list = stopwords_list\n",
    "extended_stopwords_list += spacy.lang.en.stop_words.STOP_WORDS # spacy\n",
    "extended_stopwords_list += additional_stopwords\n",
    "extended_stopwords_list = ENGLISH_STOP_WORDS.union(stopwords_list) # sklearn stopwords\n",
    "extended_stopwords_list = list(set(extended_stopwords_list))\n",
    "extended_stopwords_list = [ w for w in extended_stopwords_list if w not in 'not' ]\n",
    "      \n",
    "print('Length of extended stopwords list: {}'.format(len(extended_stopwords_list)))"
   ]
  },
  {
   "cell_type": "code",
   "execution_count": 112,
   "metadata": {},
   "outputs": [
    {
     "name": "stdout",
     "output_type": "stream",
     "text": [
      "The English vocabulary list contains 365924 words.\n"
     ]
    }
   ],
   "source": [
    "english_vocab = [w.lower() for w in nltk.corpus.words.words()]\n",
    "english_vocab += [w.lower() for w in nltk.corpus.wordnet.words()]\n",
    "english_vocab += [w.lower() for w in nltk.corpus.brown.words()]\n",
    "english_vocab += [w.lower() for w in nltk.corpus.reuters.words()]\n",
    "english_vocab += [w.lower() for w in nltk.corpus.nps_chat.words()]\n",
    "english_vocab += [w.lower() for w in nltk.corpus.webtext.words()]\n",
    "english_vocab = set(english_vocab)\n",
    "\n",
    "print('The English vocabulary list contains {} words.'.format(len(english_vocab)))"
   ]
  },
  {
   "cell_type": "markdown",
   "metadata": {},
   "source": [
    "<a id=\"tokens\"></a>\n",
    "## Custom Tokenizers"
   ]
  },
  {
   "cell_type": "code",
   "execution_count": 113,
   "metadata": {
    "code_folding": []
   },
   "outputs": [],
   "source": [
    "with open('contractions.txt','r') as f:\n",
    "    contractions = eval(f.read())\n",
    "\n",
    "def expand_contractions(str_input):\n",
    "    \"\"\" Replace contracted words with expanded words.\n",
    "    Example: can't -> cannot, he'll -> he will.\n",
    "\n",
    "    contractions.txt with dictionary mappings must be in same directory.\"\"\"\n",
    "    \n",
    "    str_input = re.sub(r\"[^A-Za-z0-9' ]+\", \" \", str_input).lower()\n",
    "    new = re.sub(r\"\\s+\\'\", \"'\", str_input)\n",
    "    for word in new.split():\n",
    "        if word in contractions.keys():\n",
    "            new = new.replace(word, contractions[word])\n",
    "    return new\n",
    "\n",
    "def clean_text(str_input):\n",
    "    \"\"\" Returns strings with urls, hashtags, contractions, new line characters,\n",
    "    and punctuation removed. \"\"\"\n",
    "    \n",
    "    no_url = re.sub(r'''(?i)\\b((?:https?://|www\\d{0,3}[.]|[a-z0-9.\\-]+[.][a-z]{2,4}/)(?:[^\\s()<>]+|\\(([^\\s()<>]+|(\\([^\\s()<>]+\\)))*\\))+(?:\\(([^\\s()<>]+|(\\([^\\s()<>]+\\)))*\\)|[^\\s`!()\\[\\]{};:'\".,<>?«»“”‘’]))''', \" \", str_input)\n",
    "    no_contractions = expand_contractions(no_url)\n",
    "    no_newline = re.sub(r\"(?<=[a-z])[\\r\\n]+\",\" \", no_contractions)\n",
    "    no_punc = re.sub(r\"[^A-Za-z0-9]+\", \" \", no_newline)\n",
    "    return no_punc\n",
    "\n",
    "def tokenizer(str_input, stop_words=None, lem=False, stem=False):\n",
    "    \"\"\" Returns tokenized string. Optional stopwords removal, lemmatization \n",
    "    or stemming.\"\"\"\n",
    "    \n",
    "    str_input = clean_text(str_input)\n",
    "    words = filter(None, str_input.split())\n",
    "    words = [w.lower() for w in words]\n",
    "    stemmer = SnowballStemmer(\"english\")\n",
    "    lemmer = WordNetLemmatizer()\n",
    "    if stop_words:\n",
    "        words = [w for w in words if w not in stop_words]\n",
    "    if lem:\n",
    "        words = [lemmer.lemmatize(w, \"v\") for w in words]\n",
    "    if stem:\n",
    "        words = [stemmer.stem(w) for w in words]\n",
    "        if stop_words:\n",
    "            words = [w for w in words if w not in stop_words]\n",
    "    return words"
   ]
  },
  {
   "cell_type": "code",
   "execution_count": 114,
   "metadata": {
    "code_folding": [],
    "scrolled": true
   },
   "outputs": [
    {
     "name": "stdout",
     "output_type": "stream",
     "text": [
      "ORIGINAL TEXT:\n",
      "This restaurant seems to be doing something right, and I can\\'t seem to stay away either. From the wide selections of burger toppings, to the absolutely delicious sweet treats (milkshakes and flapjacks), I\\'m addicted, (even with its strange location next to the garage).www.examplewebsite.com, #bestbest an #outoftheworld'\n",
      "------------------------------------------------------------------------------------------------------------------------\n",
      "EXPAND CONTRACTED WORDS:\n",
      "this restaurant seems to be doing something right  and i cannot seem to stay away either  from the wide selections of burger toppings  to the absolutely delicious sweet treats  milkshakes and flapjacks  I am addicted   even with it is strange location next to the garage www examplewebsite com   bestbest an  outoftheworld'\n",
      "------------------------------------------------------------------------------------------------------------------------\n",
      "CLEAN TEXT:\n",
      "this restaurant seems to be doing something right and i cannot seem to stay away either from the wide selections of burger toppings to the absolutely delicious sweet treats milkshakes and flapjacks I am addicted even with it is strange location next to the garage bestbest an outoftheworld \n",
      "------------------------------------------------------------------------------------------------------------------------\n",
      "RAW WORD TOKENS + EXPAND WORDS:\n",
      "['this', 'restaurant', 'seems', 'to', 'be', 'doing', 'something', 'right', 'and', 'i', 'cannot', 'seem', 'to', 'stay', 'away', 'either', 'from', 'the', 'wide', 'selections', 'of', 'burger', 'toppings', 'to', 'the', 'absolutely', 'delicious', 'sweet', 'treats', 'milkshakes', 'and', 'flapjacks', 'i', 'am', 'addicted', 'even', 'with', 'it', 'is', 'strange', 'location', 'next', 'to', 'the', 'garage', 'bestbest', 'an', 'outoftheworld']\n",
      "------------------------------------------------------------------------------------------------------------------------\n",
      "LEMMED TOKENS:\n",
      "['this', 'restaurant', 'seem', 'to', 'be', 'do', 'something', 'right', 'and', 'i', 'cannot', 'seem', 'to', 'stay', 'away', 'either', 'from', 'the', 'wide', 'selections', 'of', 'burger', 'toppings', 'to', 'the', 'absolutely', 'delicious', 'sweet', 'treat', 'milkshakes', 'and', 'flapjacks', 'i', 'be', 'addict', 'even', 'with', 'it', 'be', 'strange', 'location', 'next', 'to', 'the', 'garage', 'bestbest', 'an', 'outoftheworld']\n",
      "------------------------------------------------------------------------------------------------------------------------\n",
      "LEMMED + STEMMED TOKENS:\n",
      "['this', 'restaur', 'seem', 'to', 'be', 'do', 'someth', 'right', 'and', 'i', 'cannot', 'seem', 'to', 'stay', 'away', 'either', 'from', 'the', 'wide', 'select', 'of', 'burger', 'top', 'to', 'the', 'absolut', 'delici', 'sweet', 'treat', 'milkshak', 'and', 'flapjack', 'i', 'be', 'addict', 'even', 'with', 'it', 'be', 'strang', 'locat', 'next', 'to', 'the', 'garag', 'bestbest', 'an', 'outoftheworld']\n",
      "------------------------------------------------------------------------------------------------------------------------\n",
      "LEMMED TOKENS WITHOUT EXTENDED STOPWORDS:\n",
      "['restaurant', 'right', 'stay', 'away', 'wide', 'selections', 'burger', 'toppings', 'absolutely', 'delicious', 'sweet', 'treat', 'milkshakes', 'flapjacks', 'addict', 'strange', 'location', 'garage', 'bestbest', 'outoftheworld']\n",
      "------------------------------------------------------------------------------------------------------------------------\n",
      "LEMMED + STEMMED TOKENS WITHOUT EXTENDED STOPWORDS:\n",
      "['restaur', 'right', 'stay', 'away', 'wide', 'select', 'burger', 'absolut', 'delici', 'sweet', 'treat', 'milkshak', 'flapjack', 'addict', 'strang', 'locat', 'garag', 'bestbest', 'outoftheworld']\n"
     ]
    }
   ],
   "source": [
    "test_sentence = \"This restaurant seems to be doing something right, and I can\\\\'t seem to stay away either. \\\n",
    "From the wide selections of burger toppings, to the absolutely delicious sweet treats \\\n",
    "(milkshakes and flapjacks), I\\\\'m addicted, (even with its strange location next to the garage).\\\n",
    "www.examplewebsite.com, #bestbest an #outoftheworld'\"\n",
    "\n",
    "print('ORIGINAL TEXT:')\n",
    "print(test_sentence)\n",
    "print('-'*120)\n",
    "\n",
    "# remove punctuation and expand contractions \n",
    "print('EXPAND CONTRACTED WORDS:')\n",
    "print(expand_contractions(test_sentence))\n",
    "print('-'*120)\n",
    "\n",
    "# remove punctuation and expand contractions \n",
    "print('CLEAN TEXT:')\n",
    "print(clean_text(test_sentence))\n",
    "print('-'*120)\n",
    "\n",
    "# tokenize text\n",
    "print('RAW WORD TOKENS + EXPAND WORDS:')\n",
    "print(tokenizer(test_sentence))\n",
    "print('-'*120)\n",
    "\n",
    "# tokenize and lemmatize text\n",
    "print('LEMMED TOKENS:')\n",
    "print(tokenizer(test_sentence, lem=True))\n",
    "print('-'*120)\n",
    "\n",
    "# tokenize, lemmatize and stem text\n",
    "print('LEMMED + STEMMED TOKENS:')\n",
    "print(tokenizer(test_sentence, lem=True, stem=True))\n",
    "print('-'*120)\n",
    "\n",
    "# remove extended stopwords without stemming\n",
    "print('LEMMED TOKENS WITHOUT EXTENDED STOPWORDS:')\n",
    "print(tokenizer(test_sentence, lem=True, stem=False, \n",
    "                stop_words=extended_stopwords_list))\n",
    "print('-'*120)\n",
    "\n",
    "# remove extended stopwords with stemming\n",
    "print('LEMMED + STEMMED TOKENS WITHOUT EXTENDED STOPWORDS:')\n",
    "print(tokenizer(test_sentence, lem=True, stem=True, \n",
    "                stop_words=extended_stopwords_list))"
   ]
  },
  {
   "cell_type": "markdown",
   "metadata": {},
   "source": [
    "<a id=\"vocab\"></a>\n",
    "## Analyze Review Vocabulary"
   ]
  },
  {
   "cell_type": "code",
   "execution_count": 115,
   "metadata": {},
   "outputs": [
    {
     "name": "stdout",
     "output_type": "stream",
     "text": [
      "The review dataset contains 81006 unique words.\n",
      "There are 10195666 total words in the review corpus.\n",
      "Therefore, the lexical diversity in the text is around 0.79%.\n"
     ]
    }
   ],
   "source": [
    "# add raw tokens column to full text reviews\n",
    "english['raw_tokens'] = english['combined'].apply(tokenizer)\n",
    "\n",
    "reviews = english['raw_tokens'].tolist().copy()\n",
    "review_tokens_raw = list(itertools.chain.from_iterable(reviews))\n",
    "\n",
    "fdist = FreqDist(review_tokens_raw)\n",
    "\n",
    "full_vocab_freq = dict()\n",
    "for word, frequency in fdist.items():\n",
    "    full_vocab_freq[word] = frequency\n",
    "    \n",
    "print('The review dataset contains {} unique words.'\n",
    "      .format(len(full_vocab_freq)))\n",
    "print('There are {} total words in the review corpus.'.format(sum(fdist.values())))\n",
    "print('Therefore, the lexical diversity in the text is around {0:.2f}%.'\n",
    "      .format((len(full_vocab_freq)/sum(fdist.values()))*100))"
   ]
  },
  {
   "cell_type": "code",
   "execution_count": 116,
   "metadata": {},
   "outputs": [
    {
     "data": {
      "image/png": "[encoded data removed]",
      "text/plain": [
       "<Figure size 864x432 with 1 Axes>"
      ]
     },
     "metadata": {
      "needs_background": "light"
     },
     "output_type": "display_data"
    }
   ],
   "source": [
    "# the top 50 words account for almost half the \n",
    "# total words in the entire corpus\n",
    "most_common_50 = fdist.most_common(50)\n",
    "most_common_50.sort(key=lambda tup: tup[1])\n",
    "x, y = list(zip(*most_common_50))\n",
    "\n",
    "fig = plt.figure(figsize=(12,6))\n",
    "plt.scatter(x, y)\n",
    "plt.title('The 50 most frequenct words account for almost \\\n",
    "half the words in the reviews', fontsize=13)\n",
    "plt.xticks(np.arange(50), labels=[w[0] for w in most_common_50],\n",
    "           rotation=70, fontsize=12)\n",
    "plt.xlabel('Common Words', fontsize=12)\n",
    "plt.xlabel('Word Count', fontsize=12);"
   ]
  },
  {
   "cell_type": "code",
   "execution_count": 117,
   "metadata": {
    "scrolled": false
   },
   "outputs": [
    {
     "name": "stdout",
     "output_type": "stream",
     "text": [
      "('atcvxcvxxcbbcvvvbnbbbnbbbbbnbbnbbbbnbbbnbnnnbnbbnnbnbbbbnbbnbbbbbbbbbbbvbbbbbnvbbbnbmbbbbbbbbbbbbbbbbbbbbnbnbbbvbbnbbn7zzvzzzddzdzzzzzzzzzzzdzzzzzzzcvv', 151)\n",
      "('zzzzdzzdzzzszzddzzxdzzszzzzzdzdzzzzzzzkklmzzzxzzzzzzxzzzxxzzzzzzzzzzzzzzzzzzzzzzzzzzzzzzzzzzzzzzzxzzzxzzzzzzzzzxzzzxzzzzz', 121)\n",
      "('xxxxxxxxxxxxxxxxxxxxxxxxxxxxxxxxxxxxxxxxxxxxxxxxxxxxxxxxxxxxxxxxxxxxxxxxxx', 74)\n",
      "('xxxxxxxxxxxxxxxxxxxxxxxxxxxxxxxxxxxxxxxxxxxxxxxxxxxxxxxxxxxxxxxxxxxxxxxx', 72)\n",
      "('flippinwearenotnormalkickassbitememunchetycrunchety', 51)\n",
      "('sssssssssshhhhhhhhhhiiiiiiiiiitttttttttteeeeeeeeee', 50)\n",
      "('niceeeeeeeeeeeeeeeeeeeeeeeeeeeeeeeeeeeeeeeeeeeeeee', 50)\n",
      "('2599999999999998898889988888888888888888888888888', 49)\n",
      "('vvvvvvvvcvvvuvvvvvvvvvvvvvvvvuvvvuucvvuvvvvvvvvv', 48)\n",
      "('iuuuuuuuuuuuuyyytttffvuuujhgggyyuhhhgfreeertyuuh', 48)\n",
      "('awwwwwwwwwwwwwwwwwwwwwwwwwwwwwwwwwwwwwwwwwwwwwwe', 48)\n",
      "('loooooooooooovvvvvvvvvvvvveeeeeeeeeeeeeeeeeeeee', 47)\n",
      "('verrrrrrrrrrrrrrrrrrrrrrrrrrrrrrryyyyyyyyyyyyy', 46)\n",
      "('hadtowaitformyfoodtocomewhileeveryoneiseating', 45)\n",
      "('niccccccccccccccccccccccccccccccccccccccccce', 44)\n",
      "('whatdoineedtodototestdrivethecompanymustang', 43)\n",
      "('nooooooooooooooooooooooooooooooooooooottttt', 43)\n",
      "('okaaaaaaaaaaaaaaaaaaaaaaaaaaaaaaaaayyyyyy', 41)\n",
      "('jhhhhhhhhhhhhhhhmmmmmmmmmmmmmmmmmmmmmmmm', 40)\n",
      "('whyiliveincapetownwithactualrestaurants', 39)\n",
      "('loooooooooooovvvvvvveeeeeeeeeddddddddd', 38)\n",
      "('zczzzzzxxzzzzzzzzzxxxxzxzzzxzxxxzzcccc', 38)\n",
      "('nothinguniquejustanotheraverageburger', 37)\n",
      "('soooooooooooooooooooooooooooooooooooo', 37)\n",
      "('vibesttttttttttttttttttttttttttttttt', 36)\n",
      "('lovelovelovelovelovelovelovelovelove', 36)\n",
      "('projectcatherinerobsonchildrenshome', 35)\n",
      "('johndorysfishgrillandsushibeaconbay', 35)\n",
      "('perfecteverytimebutcleanthebathroom', 35)\n",
      "('losingweigthwhilestwaitingfordinner', 35)\n",
      "('looooooooooooovvvvvvvvvvvveeeeeeeee', 35)\n",
      "('supercalifragilisticexpialidocious', 34)\n",
      "('neverrrrrrrrrrrrrrrrrrrrrrrrrrrrrr', 34)\n",
      "('spuuuuuuuuuuuuuuuuuuuuuuuuurrrrrrr', 34)\n",
      "('supercaliflicationextraspeloscious', 34)\n",
      "('cincintingelingingnowitshappening', 33)\n",
      "('supercalifragilisticexpilodocious', 33)\n",
      "('extremelydisgustedanddissapointed', 33)\n",
      "('happy50thbirthdayspurstakeranches', 33)\n",
      "('lllllllllllllllllllllllllllllllll', 33)\n",
      "('ggggggrrrrreeeeeeaaaaaaaaaaaaaat', 32)\n",
      "('theyjustkilledthewholeexperience', 32)\n",
      "('ammmmmmaaaaaaaazzzzzzzziiiiiiing', 32)\n",
      "('onlyinterestedinforeignersmoney', 31)\n",
      "('wishicouldemployheratourcompany', 31)\n",
      "('vredendalbigcreekspursteakranch', 31)\n",
      "('happy6thbirthdaybonolomosiamedi', 31)\n",
      "('loooooooooooooooooooooooooooove', 31)\n",
      "('superfragilisticexpialidocious', 30)\n",
      "('aaammmmaaaazzzziiiinnnnngggggg', 30)\n",
      "('excellentcustomerservicewesley', 30)\n",
      "('drivingallthewayfrompmb4lakaka', 30)\n",
      "('panarottiswoodfirecornubiamall', 30)\n",
      "('rocomamascarnivalmallmustfall', 29)\n",
      "('southafricanbacheloroftheyear', 29)\n",
      "('panarottispotchmooiriviermall', 29)\n",
      "('bestservicewehavereceivedinsa', 29)\n",
      "('friendlyandknowledgeablestaff', 29)\n",
      "('spurwillneverseemymoneyagain', 28)\n",
      "('awesooooooooooooommmmeeeeeee', 28)\n"
     ]
    }
   ],
   "source": [
    "# Taking the word lengths and ordering them from longest to shorest\n",
    "# it becomes obvious that there are many nonsensical reviews, spelling\n",
    "# mistakes, hashtags, slang adaptations, exclaimations, etc. Many of these\n",
    "# occur only once in the entire vocab. \n",
    "\n",
    "wordlengths = dict()\n",
    "for word in full_vocab_freq.keys():\n",
    "    wordlengths[word] = len(word) \n",
    "    \n",
    "sorted_wordlen = sorted(wordlengths.items(), key=lambda kv: kv[1], reverse=True)\n",
    "sorted_wordlengths = collections.OrderedDict(sorted_wordlen)\n",
    "\n",
    "for wl in list(sorted_wordlengths.items())[:60]:\n",
    "    print(wl)"
   ]
  },
  {
   "cell_type": "markdown",
   "metadata": {},
   "source": [
    "<a id=\"hashtag\"></a>\n",
    "## Split Hashtag Function to Tokenizer with Domain Specific Vocab"
   ]
  },
  {
   "cell_type": "code",
   "execution_count": 118,
   "metadata": {},
   "outputs": [
    {
     "data": {
      "text/html": [
       "[('the', 476000), ('and', 391159), ('was', 279245), ('service', 251571), ('a', 223645), ('to', 204291), ('food', 181160), ('i', 164576), ('good', 160464), ('is', 155302)]"
      ],
      "text/plain": [
       "[('the', 476000),\n",
       " ('and', 391159),\n",
       " ('was', 279245),\n",
       " ('service', 251571),\n",
       " ('a', 223645),\n",
       " ('to', 204291),\n",
       " ('food', 181160),\n",
       " ('i', 164576),\n",
       " ('good', 160464),\n",
       " ('is', 155302)]"
      ]
     },
     "execution_count": 118,
     "metadata": {},
     "output_type": "execute_result"
    }
   ],
   "source": [
    "# The top 20 000 most frequent words were added to \n",
    "# a trimmed vocabulary\n",
    "trimmed_vocab_freq = dict()\n",
    "for word, frequency in fdist.most_common(20000):\n",
    "    trimmed_vocab_freq[word] = frequency\n",
    "    \n",
    "list(trimmed_vocab_freq.items())[0:10]"
   ]
  },
  {
   "cell_type": "code",
   "execution_count": 119,
   "metadata": {},
   "outputs": [
    {
     "name": "stdout",
     "output_type": "stream",
     "text": [
      "The extended vocabulary contains 371797 words.\n",
      "This is 5873 more than the English vocab.\n"
     ]
    }
   ],
   "source": [
    "extended_vocab_20k = list(set(list(english_vocab) + list(trimmed_vocab_freq.keys())))\n",
    "\n",
    "with open(\"vocab_20k.txt\", \"w\", encoding='utf-8') as file:\n",
    "    file.writelines( \"%s\\n\" % item for item in extended_vocab_20k )\n",
    "    \n",
    "print('The extended vocabulary contains {} words.'.format(len(extended_vocab_20k)))\n",
    "print('This is {} more than the English vocab.'.format(len(extended_vocab_20k) - len(english_vocab)))"
   ]
  },
  {
   "cell_type": "code",
   "execution_count": 120,
   "metadata": {},
   "outputs": [
    {
     "name": "stdout",
     "output_type": "stream",
     "text": [
      "\n",
      "ORIGINAL TEXT:\n",
      "This restaurant seems to be doing something right, and I can\\'t seem to stay away either. From the wide selections of burger toppings, to the absolutely delicious sweet treats (milkshakes and flapjacks), I\\'m addicted, (even with its strange location next to the garage).www.examplewebsite.com, #bestbest an #outoftheworld'\n",
      "------------------------------------------------------------------------------------------------------------------------\n",
      "EXPAND HASHTAGS:\n",
      "this restaurant seems to be doing something right  and i can t seem to stay away either  from the wide selections of burger toppings  to the absolutely delicious sweet treats  milkshakes and flapjacks  i m addicted   even with its strange location next to the garage www examplewebsite com  best best an out of the world \n",
      "------------------------------------------------------------------------------------------------------------------------\n",
      "CLEAN TEXT:\n",
      "this restaurant seems to be doing something right and i cannot seem to stay away either from the wide selections of burger toppings to the absolutely delicious sweet treats milkshakes and flapjacks i am addicted even with it is strange location next to the garage best best an out of the world \n",
      "------------------------------------------------------------------------------------------------------------------------\n"
     ]
    }
   ],
   "source": [
    "def expand_contractions(string_input):\n",
    "    \"\"\"Expands contracted words by removing the apostrophe and \n",
    "    replacing with full words.\"\"\"\n",
    "    string_input = re.sub(r\"[^A-Za-z0-9'# ]+\", \" \", string_input).lower()\n",
    "    new = re.sub(r\"\\s+\\'\", \"'\", string_input)\n",
    "    for word in new.split():\n",
    "        if word in contractions.keys():\n",
    "            new = new.replace(word, contractions[word])\n",
    "    return new\n",
    "\n",
    "\n",
    "def split_hashtag(str_input):\n",
    "    \"\"\" Returns hashtag split into individual words. Wordninja is used \n",
    "    to split the hashtag after it has been confirmed that it is not a\n",
    "    single word in the extended english vocabulary. \n",
    "    \n",
    "    Wordninja probabilistically splits strings.\"\"\"\n",
    "    string = re.sub(r\"[^A-Za-z0-9# ]+\", \" \", str_input).lower()\n",
    "    for word in string.split():\n",
    "        if word.startswith('#') and word[1:] not in extended_vocab_20k:\n",
    "            new_words = wordninja.split(word)\n",
    "            new_words_string = ' '.join(word for word in new_words)\n",
    "            string = string.replace(word, new_words_string)\n",
    "    return string\n",
    "\n",
    "def clean_text(str_input):\n",
    "    \"\"\"Returns strings with urls, contractions, new line characters,\n",
    "    and punctuation removed.  Hashtags are split.\"\"\"\n",
    "    no_url = re.sub(r'''(?i)\\b((?:https?://|www\\d{0,3}[.]|[a-z0-9.\\-]+[.][a-z]{2,4}/)(?:[^\\s()<>]+|\\(([^\\s()<>]+|(\\([^\\s()<>]+\\)))*\\))+(?:\\(([^\\s()<>]+|(\\([^\\s()<>]+\\)))*\\)|[^\\s`!()\\[\\]{};:'\".,<>?«»“”‘’]))''', \" \", str_input)\n",
    "    no_contractions = expand_contractions(no_url)\n",
    "    split_hash = split_hashtag(no_contractions)\n",
    "    no_newline = re.sub(r\"(?<=[a-z])[\\r\\n]+\",\" \", split_hash)\n",
    "    no_punc = re.sub(r\"[^A-Za-z0-9]+\", \" \", no_newline)\n",
    "    return no_punc\n",
    "\n",
    "english['raw_tokens'] = english['combined'].apply(tokenizer)\n",
    "\n",
    "reviews = english['raw_tokens'].tolist().copy()\n",
    "review_tokens_raw = list(itertools.chain.from_iterable(reviews))\n",
    "\n",
    "fdist = FreqDist(review_tokens_raw)\n",
    "\n",
    "full_vocab_freq = dict()\n",
    "for word, frequency in fdist.items():\n",
    "    full_vocab_freq[word] = frequency\n",
    "    \n",
    "print('\\nORIGINAL TEXT:')\n",
    "print(test_sentence)\n",
    "print('-'*120)\n",
    "\n",
    "print('EXPAND HASHTAGS:')\n",
    "print(split_hashtag(test_sentence))\n",
    "print('-'*120)\n",
    "\n",
    "print('CLEAN TEXT:')\n",
    "print(clean_text(test_sentence))\n",
    "print('-'*120)"
   ]
  },
  {
   "cell_type": "code",
   "execution_count": 121,
   "metadata": {},
   "outputs": [
    {
     "name": "stdout",
     "output_type": "stream",
     "text": [
      "The review dataset contains 80039 words.\n",
      "\n",
      "After splitting the hashtags, there are 967 less words in the review vocab. This indicates that 967 \"unique\" words were in fact hashtags.\n",
      "\n",
      "There are 42074 words that appear only once in the text. This is 52% of the total vocab. Therefore, a lot of the words in the reviews are spelling errors or uncommon words.\n"
     ]
    }
   ],
   "source": [
    "print('The review dataset contains {} words.'.format(len(full_vocab_freq)), end='\\n\\n')\n",
    "\n",
    "print('After splitting the hashtags, there are {0} less words in the review vocab. \\\n",
    "This indicates that {0} \"unique\" words were in fact hashtags.'\\\n",
    ".format(81006 - len(full_vocab_freq)))\n",
    "\n",
    "rare_words = fdist.hapaxes()\n",
    "print('\\nThere are {} words that appear only once in the text. This is \\\n",
    "{}% of the total vocab. Therefore, a lot of the words in the reviews are \\\n",
    "spelling errors or uncommon words.'.format(len(rare_words), round((len(rare_words)/81006)*100), 3))"
   ]
  },
  {
   "cell_type": "markdown",
   "metadata": {},
   "source": [
    "<a id=\"lem\"></a>\n",
    "## Add Preprocessed Text to Datasets"
   ]
  },
  {
   "cell_type": "code",
   "execution_count": 36,
   "metadata": {},
   "outputs": [
    {
     "name": "stdout",
     "output_type": "stream",
     "text": [
      "Wall time: 15min 23s\n"
     ]
    }
   ],
   "source": [
    "%%time\n",
    "\n",
    "english['clean_text'] = english['combined'].apply(clean_text)\n",
    "english['lemmed_tokens'] = english['combined'].apply(tokenizer, lem=True)\n",
    "english['tokens_wsw'] = english['combined'].apply(tokenizer, lem=True, stop_words=stopwords_list)\n",
    "english['tokens_wesw'] = english['combined'].apply(tokenizer, lem=True, stop_words=extended_stopwords_list)\n",
    "english['tokens_wesw_stem'] = english['combined'].apply(tokenizer, lem=True, stem=True, \n",
    "                                                        stop_words=extended_stopwords_list)"
   ]
  },
  {
   "cell_type": "code",
   "execution_count": 37,
   "metadata": {
    "scrolled": true
   },
   "outputs": [
    {
     "data": {
      "text/html": [
       "<div>\n",
       "<style scoped>\n",
       "    .dataframe tbody tr th:only-of-type {\n",
       "        vertical-align: middle;\n",
       "    }\n",
       "\n",
       "    .dataframe tbody tr th {\n",
       "        vertical-align: top;\n",
       "    }\n",
       "\n",
       "    .dataframe thead th {\n",
       "        text-align: right;\n",
       "    }\n",
       "</style>\n",
       "<table border=\"1\" class=\"dataframe\">\n",
       "  <thead>\n",
       "    <tr style=\"text-align: right;\">\n",
       "      <th></th>\n",
       "      <th>clean_text</th>\n",
       "      <th>raw_tokens</th>\n",
       "      <th>lemmed_tokens</th>\n",
       "      <th>tokens_wsw</th>\n",
       "      <th>tokens_wesw</th>\n",
       "      <th>tokens_wesw_stem</th>\n",
       "    </tr>\n",
       "  </thead>\n",
       "  <tbody>\n",
       "    <tr>\n",
       "      <td>356647</td>\n",
       "      <td>lungelo</td>\n",
       "      <td>[lungelo]</td>\n",
       "      <td>[lungelo]</td>\n",
       "      <td>[lungelo]</td>\n",
       "      <td>[lungelo]</td>\n",
       "      <td>[lungelo]</td>\n",
       "    </tr>\n",
       "    <tr>\n",
       "      <td>356639</td>\n",
       "      <td>very good service from staff</td>\n",
       "      <td>[very, good, service, from, staff]</td>\n",
       "      <td>[very, good, service, from, staff]</td>\n",
       "      <td>[service, staff]</td>\n",
       "      <td>[service, staff]</td>\n",
       "      <td>[servic, staff]</td>\n",
       "    </tr>\n",
       "    <tr>\n",
       "      <td>356649</td>\n",
       "      <td>wizzy</td>\n",
       "      <td>[wizzy]</td>\n",
       "      <td>[wizzy]</td>\n",
       "      <td>[wizzy]</td>\n",
       "      <td>[wizzy]</td>\n",
       "      <td>[wizzi]</td>\n",
       "    </tr>\n",
       "    <tr>\n",
       "      <td>35762</td>\n",
       "      <td>love to visit spur in white river service is good food is always great nice play area for children good food great atmosphere</td>\n",
       "      <td>[love, to, visit, spur, in, white, river, service, is, good, food, is, always, great, nice, play, area, for, children, good, food, great, atmosphere]</td>\n",
       "      <td>[love, to, visit, spur, in, white, river, service, be, good, food, be, always, great, nice, play, area, for, children, good, food, great, atmosphere]</td>\n",
       "      <td>[love, visit, spur, white, river, service, food, great, nice, play, area, children, food, great, atmosphere]</td>\n",
       "      <td>[love, visit, spur, white, river, service, food, great, nice, play, area, children, food, great, atmosphere]</td>\n",
       "      <td>[love, visit, spur, white, river, servic, food, great, nice, play, area, children, food, great, atmospher]</td>\n",
       "    </tr>\n",
       "    <tr>\n",
       "      <td>357768</td>\n",
       "      <td>very courteous and friendly staff</td>\n",
       "      <td>[very, courteous, and, friendly, staff]</td>\n",
       "      <td>[very, courteous, and, friendly, staff]</td>\n",
       "      <td>[courteous, friendly, staff]</td>\n",
       "      <td>[courteous, friendly, staff]</td>\n",
       "      <td>[courteous, friend, staff]</td>\n",
       "    </tr>\n",
       "  </tbody>\n",
       "</table>\n",
       "</div>"
      ],
      "text/plain": [
       "                                                                                                                           clean_text  \\\n",
       "356647  lungelo                                                                                                                         \n",
       "356639  very good service from staff                                                                                                    \n",
       "356649  wizzy                                                                                                                           \n",
       "35762   love to visit spur in white river service is good food is always great nice play area for children good food great atmosphere   \n",
       "357768  very courteous and friendly staff                                                                                               \n",
       "\n",
       "                                                                                                                                                   raw_tokens  \\\n",
       "356647  [lungelo]                                                                                                                                               \n",
       "356639  [very, good, service, from, staff]                                                                                                                      \n",
       "356649  [wizzy]                                                                                                                                                 \n",
       "35762   [love, to, visit, spur, in, white, river, service, is, good, food, is, always, great, nice, play, area, for, children, good, food, great, atmosphere]   \n",
       "357768  [very, courteous, and, friendly, staff]                                                                                                                 \n",
       "\n",
       "                                                                                                                                                lemmed_tokens  \\\n",
       "356647  [lungelo]                                                                                                                                               \n",
       "356639  [very, good, service, from, staff]                                                                                                                      \n",
       "356649  [wizzy]                                                                                                                                                 \n",
       "35762   [love, to, visit, spur, in, white, river, service, be, good, food, be, always, great, nice, play, area, for, children, good, food, great, atmosphere]   \n",
       "357768  [very, courteous, and, friendly, staff]                                                                                                                 \n",
       "\n",
       "                                                                                                          tokens_wsw  \\\n",
       "356647  [lungelo]                                                                                                      \n",
       "356639  [service, staff]                                                                                               \n",
       "356649  [wizzy]                                                                                                        \n",
       "35762   [love, visit, spur, white, river, service, food, great, nice, play, area, children, food, great, atmosphere]   \n",
       "357768  [courteous, friendly, staff]                                                                                   \n",
       "\n",
       "                                                                                                         tokens_wesw  \\\n",
       "356647  [lungelo]                                                                                                      \n",
       "356639  [service, staff]                                                                                               \n",
       "356649  [wizzy]                                                                                                        \n",
       "35762   [love, visit, spur, white, river, service, food, great, nice, play, area, children, food, great, atmosphere]   \n",
       "357768  [courteous, friendly, staff]                                                                                   \n",
       "\n",
       "                                                                                                  tokens_wesw_stem  \n",
       "356647  [lungelo]                                                                                                   \n",
       "356639  [servic, staff]                                                                                             \n",
       "356649  [wizzi]                                                                                                     \n",
       "35762   [love, visit, spur, white, river, servic, food, great, nice, play, area, children, food, great, atmospher]  \n",
       "357768  [courteous, friend, staff]                                                                                  "
      ]
     },
     "execution_count": 37,
     "metadata": {},
     "output_type": "execute_result"
    }
   ],
   "source": [
    "english[['clean_text', 'raw_tokens', 'lemmed_tokens', 'tokens_wsw', 'tokens_wesw', 'tokens_wesw_stem']].head()"
   ]
  },
  {
   "cell_type": "code",
   "execution_count": 38,
   "metadata": {},
   "outputs": [],
   "source": [
    "preprocessed_cut = english[['review_id', 'date', 'clean_text', 'raw_tokens','lemmed_tokens', 'tokens_wsw',\n",
    "                            'tokens_wesw', 'tokens_wesw_stem']]\n",
    "\n",
    "# Join to text dataframe\n",
    "preprocessed_english_cat = pd.merge(english_cat, preprocessed_cut, on='review_id', how='left')"
   ]
  },
  {
   "cell_type": "markdown",
   "metadata": {},
   "source": [
    "<a id=\"features\"></a>\n",
    "# Text Features\n",
    "[Return to Index](#index)"
   ]
  },
  {
   "cell_type": "code",
   "execution_count": 39,
   "metadata": {},
   "outputs": [
    {
     "name": "stdout",
     "output_type": "stream",
     "text": [
      "Wall time: 5.32 s\n"
     ]
    }
   ],
   "source": [
    "%%time\n",
    "\n",
    "def text_features_clean(str_input):\n",
    "    word_count = len(str_input.split())\n",
    "    unique_words = len(set(str_input.split()))\n",
    "    char_count = len(str_input)\n",
    "    return [word_count, unique_words, char_count]\n",
    "\n",
    "def add_text_features(df):\n",
    "    clean_features = [(x, y, z) for (x, y, z) in df.clean_text.apply(text_features_clean)] \n",
    "    \n",
    "    df['word_count'] = [feat[0] for feat in clean_features]\n",
    "    df['unique_words'] = [feat[1] for feat in clean_features]\n",
    "    df['char_count'] = [feat[2] for feat in clean_features]\n",
    "\n",
    "add_text_features(english)\n",
    "add_text_features(preprocessed_english_cat)"
   ]
  },
  {
   "cell_type": "markdown",
   "metadata": {},
   "source": [
    "<a id=\"more_errors\"></a>\n",
    "## Remove Further Erroneous Reviews"
   ]
  },
  {
   "cell_type": "code",
   "execution_count": 40,
   "metadata": {},
   "outputs": [
    {
     "data": {
      "text/plain": [
       "43939     炸鱼很干，我的朋友没有吃                                                                    \n",
       "47563     ??                                                                              \n",
       "49408     Хваната е вкусна, децата се забавляват в мястото за игра,харесва ни!Препоръчвам \n",
       "54955     !!                                                                              \n",
       "56007     ☺??????                                                                         \n",
       "60395     ❤️??                                                                            \n",
       "60952     ❤️                                                                              \n",
       "63973     ??                                                                              \n",
       "66692     ????                                                                            \n",
       "102271    ????                                                                            \n",
       "109782    ???                                                                             \n",
       "117187    美好一天的开始                                                                         \n",
       "125030    ???????????????                                                                 \n",
       "153725    ??                                                                              \n",
       "Name: combined, dtype: object"
      ]
     },
     "execution_count": 40,
     "metadata": {},
     "output_type": "execute_result"
    }
   ],
   "source": [
    "# despite previous preprocessing, there were non-english reviews and \n",
    "# reviews comprised solely of punctuation. These reviews would perhaps\n",
    "# be better excluded and the ratings used to determine sentiment\n",
    "preprocessed_english_cat['combined'].loc[preprocessed_english_cat.word_count == 0]"
   ]
  },
  {
   "cell_type": "code",
   "execution_count": 41,
   "metadata": {},
   "outputs": [],
   "source": [
    "remove = preprocessed_english_cat.review_id.loc[preprocessed_english_cat.word_count == 0]\n",
    "remove += english.review_id.loc[english.word_count == 0]\n",
    "remove = list(set(remove))\n",
    "\n",
    "english = english[~english.review_id.isin(remove)]\n",
    "english_cat = preprocessed_english_cat[~preprocessed_english_cat.review_id.isin(remove)]\n",
    "\n",
    "english.reset_index(inplace=True, drop=True)\n",
    "english_cat.review_id[english_cat.word_count == 0]"
   ]
  },
  {
   "cell_type": "code",
   "execution_count": 43,
   "metadata": {},
   "outputs": [
    {
     "data": {
      "text/plain": [
       "30"
      ]
     },
     "execution_count": 43,
     "metadata": {},
     "output_type": "execute_result"
    }
   ],
   "source": [
    "rare_word_reviews = []\n",
    "for review in english_cat.clean_text.loc[english_cat.word_count == 1]:\n",
    "    for w in review.split():\n",
    "        if w not in extended_vocab_20k:\n",
    "            rare_word_reviews.append(review)\n",
    "len(rare_word_reviews)"
   ]
  },
  {
   "cell_type": "code",
   "execution_count": 44,
   "metadata": {
    "scrolled": true
   },
   "outputs": [
    {
     "data": {
      "text/plain": [
       "['peopletoloud ',\n",
       " 'waiterwasgreat ',\n",
       " 'tastyburger ',\n",
       " 'slowww ',\n",
       " 'slooooooooooow ',\n",
       " 'rubzzzzzz ',\n",
       " 'noisie ',\n",
       " 'graceissuperb ',\n",
       " 'numberone ',\n",
       " 'yhhh ',\n",
       " 'racisms ',\n",
       " 'excellense ',\n",
       " 'z7 ',\n",
       " 'annabelle ',\n",
       " 'expensives ',\n",
       " 'oustandingservice ',\n",
       " 'ffriendly ',\n",
       " 'foodelicious ',\n",
       " 'igreat ',\n",
       " 'foodilicious ',\n",
       " 'mehhh ',\n",
       " 'burgersssss ',\n",
       " 'jummmmmmmmmy ',\n",
       " 'thankyougreatservicengomso ',\n",
       " 'yummyyy ',\n",
       " 'cozzy ',\n",
       " 'deleecious ',\n",
       " 'yummmmmmyy ',\n",
       " 'coldfood ',\n",
       " 'yummyyyy ']"
      ]
     },
     "execution_count": 44,
     "metadata": {},
     "output_type": "execute_result"
    }
   ],
   "source": [
    "rare_word_reviews"
   ]
  },
  {
   "cell_type": "code",
   "execution_count": 45,
   "metadata": {},
   "outputs": [],
   "source": [
    "english.to_json('english_reviews_processed.json', orient = 'columns', date_format='iso')\n",
    "english_cat.to_json('eng_labeled_processed.json', orient = 'columns', date_format='iso')"
   ]
  },
  {
   "cell_type": "markdown",
   "metadata": {},
   "source": [
    "<a id=\"bi_tri\"></a>\n",
    "# Bigrams & Trigrams\n",
    "[Return to Index](#index)\n",
    "\n",
    "Bigrams and Trigrams are 2 and 3 word phrases that appear in the text. The most common bigrams and trigrams are similar to the most common unigrams (single words)"
   ]
  },
  {
   "cell_type": "code",
   "execution_count": 46,
   "metadata": {},
   "outputs": [
    {
     "data": {
      "image/png": "[encoded data removed]",
      "text/plain": [
       "<Figure size 1440x360 with 1 Axes>"
      ]
     },
     "metadata": {
      "needs_background": "light"
     },
     "output_type": "display_data"
    }
   ],
   "source": [
    "# plot word frequency after removing stopwords and lemmatizing \n",
    "def plot_word_freq(data, col, n_terms = 30, title=None):\n",
    "\n",
    "    reviews = data[col].tolist().copy()\n",
    "    review_tokens = list(itertools.chain.from_iterable(reviews))\n",
    "\n",
    "    vocab = FreqDist(review_tokens)\n",
    "    words_df = pd.DataFrame({'word':list(vocab.keys()), 'count':list(vocab.values())})\n",
    "\n",
    "    d = words_df.nlargest(columns=\"count\", n = n_terms) \n",
    "    plt.figure(figsize=(20,5))\n",
    "    plt.xticks(rotation=70, fontsize=12)\n",
    "    ax = sns.barplot(data=d, x= \"word\", y = \"count\")\n",
    "    ax.set_ylabel('Count', fontsize=12)\n",
    "    ax.set_xlabel(None)\n",
    "    ax.set_title(title, fontsize=14)\n",
    "    plt.show()\n",
    "    \n",
    "plot_word_freq(english, 'tokens_wesw', title='Most Frequent Words after Removing Stopwords')"
   ]
  },
  {
   "cell_type": "code",
   "execution_count": 47,
   "metadata": {},
   "outputs": [],
   "source": [
    "from nltk.collocations import *\n",
    "bigram_measures = nltk.collocations.BigramAssocMeasures()\n",
    "trigram_measures = nltk.collocations.TrigramAssocMeasures()\n",
    "finder = BigramCollocationFinder.from_words(review_tokens_raw)"
   ]
  },
  {
   "cell_type": "code",
   "execution_count": 48,
   "metadata": {},
   "outputs": [
    {
     "data": {
      "text/plain": [
       "[(('the', 'food'), 46670),\n",
       " (('thank', 'you'), 41126),\n",
       " (('and', 'the'), 40597),\n",
       " (('food', 'was'), 38232),\n",
       " (('great', 'service'), 37526),\n",
       " (('service', 'was'), 36743),\n",
       " (('good', 'service'), 35412),\n",
       " (('the', 'service'), 34874),\n",
       " (('it', 'was'), 32085),\n",
       " (('the', 'best'), 26864),\n",
       " (('it', 'is'), 26160),\n",
       " (('food', 'and'), 25840),\n",
       " (('service', 'and'), 25042),\n",
       " (('excellent', 'service'), 24348),\n",
       " (('for', 'the'), 24094),\n",
       " (('was', 'very'), 23296),\n",
       " (('of', 'the'), 21630),\n",
       " (('friendly', 'and'), 21487),\n",
       " (('good', 'food'), 21174),\n",
       " (('had', 'a'), 20864)]"
      ]
     },
     "execution_count": 48,
     "metadata": {},
     "output_type": "execute_result"
    }
   ],
   "source": [
    "sorted(finder.ngram_fd.items(), key=lambda t: (-t[1], t[0]))[:20] "
   ]
  },
  {
   "cell_type": "code",
   "execution_count": 49,
   "metadata": {},
   "outputs": [
    {
     "data": {
      "text/plain": [
       "[(('the', 'food', 'was'), 19237),\n",
       " (('the', 'service', 'was'), 15522),\n",
       " (('the', 'food', 'is'), 8328),\n",
       " (('keep', 'it', 'up'), 7881),\n",
       " (('and', 'the', 'food'), 7859),\n",
       " (('food', 'and', 'service'), 7826),\n",
       " (('very', 'friendly', 'and'), 7150),\n",
       " (('thank', 'you', 'for'), 6886),\n",
       " (('service', 'was', 'excellent'), 6679),\n",
       " (('we', 'had', 'a'), 6044),\n",
       " (('keep', 'up', 'the'), 5951),\n",
       " (('and', 'the', 'service'), 5849),\n",
       " (('had', 'a', 'great'), 5831),\n",
       " (('the', 'service', 'is'), 5424),\n",
       " (('service', 'was', 'great'), 5084),\n",
       " (('service', 'was', 'good'), 5071),\n",
       " (('food', 'was', 'great'), 5023),\n",
       " (('one', 'of', 'the'), 5017),\n",
       " (('great', 'service', 'and'), 4952),\n",
       " (('good', 'food', 'and'), 4867)]"
      ]
     },
     "execution_count": 49,
     "metadata": {},
     "output_type": "execute_result"
    }
   ],
   "source": [
    "finder_tri = TrigramCollocationFinder.from_words(review_tokens_raw)\n",
    "sorted(finder_tri.ngram_fd.items(), key=lambda t: (-t[1], t[0]))[:20] "
   ]
  },
  {
   "cell_type": "code",
   "execution_count": 50,
   "metadata": {},
   "outputs": [
    {
     "name": "stdout",
     "output_type": "stream",
     "text": [
      "After lemming and removing stopwords, the bigrams look quite different.\n"
     ]
    },
    {
     "data": {
      "text/plain": [
       "[(('great', 'service'), 39958),\n",
       " (('excellent', 'service'), 25855),\n",
       " (('great', 'food'), 19189),\n",
       " (('service', 'great'), 18912),\n",
       " (('food', 'service'), 17775),\n",
       " (('service', 'food'), 17585),\n",
       " (('food', 'great'), 17398),\n",
       " (('friendly', 'staff'), 13923),\n",
       " (('service', 'excellent'), 13782),\n",
       " (('friendly', 'service'), 9692),\n",
       " (('service', 'thank'), 9093),\n",
       " (('staff', 'friendly'), 8154),\n",
       " (('play', 'area'), 7512),\n",
       " (('service', 'friendly'), 7477),\n",
       " (('best', 'service'), 6634),\n",
       " (('food', 'excellent'), 6223),\n",
       " (('awesome', 'service'), 6021),\n",
       " (('food', 'delicious'), 5834),\n",
       " (('customer', 'service'), 5824),\n",
       " (('great', 'experience'), 5593)]"
      ]
     },
     "execution_count": 50,
     "metadata": {},
     "output_type": "execute_result"
    }
   ],
   "source": [
    "wesw_reviews = english['tokens_wesw'].tolist().copy()\n",
    "review_tokens_wesw = list(itertools.chain.from_iterable(wesw_reviews))\n",
    "finder = BigramCollocationFinder.from_words(review_tokens_wesw)\n",
    "print('After lemming and removing stopwords, the bigrams look quite different.')\n",
    "sorted(finder.ngram_fd.items(), key=lambda t: (-t[1], t[0]))[:20] "
   ]
  },
  {
   "cell_type": "code",
   "execution_count": 51,
   "metadata": {},
   "outputs": [
    {
     "name": "stdout",
     "output_type": "stream",
     "text": [
      "Likewise for the trigrams.\n"
     ]
    },
    {
     "data": {
      "text/plain": [
       "[(('food', 'great', 'service'), 5640),\n",
       " (('service', 'great', 'food'), 4496),\n",
       " (('great', 'food', 'great'), 3395),\n",
       " (('great', 'service', 'great'), 3169),\n",
       " (('great', 'service', 'food'), 2860),\n",
       " (('great', 'food', 'service'), 2722),\n",
       " (('service', 'friendly', 'staff'), 2593),\n",
       " (('food', 'excellent', 'service'), 2537),\n",
       " (('thank', 'great', 'service'), 2488),\n",
       " (('service', 'great', 'service'), 2171),\n",
       " (('great', 'service', 'thank'), 2041),\n",
       " (('service', 'excellent', 'food'), 2041),\n",
       " (('excellent', 'service', 'food'), 1872),\n",
       " (('service', 'excellent', 'service'), 1791),\n",
       " (('service', 'food', 'great'), 1750),\n",
       " (('food', 'service', 'great'), 1692),\n",
       " (('food', 'friendly', 'staff'), 1687),\n",
       " (('excellent', 'service', 'great'), 1576),\n",
       " (('great', 'service', 'friendly'), 1499),\n",
       " (('play', 'area', 'kid'), 1424)]"
      ]
     },
     "execution_count": 51,
     "metadata": {},
     "output_type": "execute_result"
    }
   ],
   "source": [
    "finder_tri = TrigramCollocationFinder.from_words(review_tokens_wesw)\n",
    "print('Likewise for the trigrams.')\n",
    "sorted(finder_tri.ngram_fd.items(), key=lambda t: (-t[1], t[0]))[:20]"
   ]
  },
  {
   "cell_type": "markdown",
   "metadata": {},
   "source": [
    "Further text exploration will be carried out in relation to analytics in other notebooks. For now, the preprocessed text was saved for the full English reviews and the labeled English reviews so that analysis could be carried out without having to rerun the preprocessing each time. \n",
    "\n",
    "[Return to Index](#index)"
   ]
  }
 ],
 "metadata": {
  "kernelspec": {
   "display_name": "learn-env",
   "language": "python",
   "name": "learn-env"
  },
  "language_info": {
   "codemirror_mode": {
    "name": "ipython",
    "version": 3
   },
   "file_extension": ".py",
   "mimetype": "text/x-python",
   "name": "python",
   "nbconvert_exporter": "python",
   "pygments_lexer": "ipython3",
   "version": "3.6.6"
  },
  "toc": {
   "base_numbering": 1,
   "nav_menu": {},
   "number_sections": true,
   "sideBar": true,
   "skip_h1_title": false,
   "title_cell": "Table of Contents",
   "title_sidebar": "Contents",
   "toc_cell": false,
   "toc_position": {},
   "toc_section_display": true,
   "toc_window_display": false
  }
 },
 "nbformat": 4,
 "nbformat_minor": 2
}
